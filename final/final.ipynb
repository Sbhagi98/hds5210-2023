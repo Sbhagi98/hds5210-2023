{
  "nbformat": 4,
  "nbformat_minor": 0,
  "metadata": {
    "colab": {
      "provenance": []
    },
    "kernelspec": {
      "name": "python3",
      "display_name": "Python 3"
    },
    "language_info": {
      "name": "python"
    }
  },
  "cells": [
    {
      "cell_type": "markdown",
      "source": [
        "# HDS5210-2023 Final Project\n",
        "Prioritizing the management of data quality concerns such as missing values and outliers is crucial, since they have the potential to distort the results of analysis. Comprehending intricate connections among many elements like age, cholesterol, and blood pressure becomes difficult without the use of modern\n",
        "modeling approaches. As a result, the project's scope may be restricted, which will affect the ability to identify subtle patterns in the data. Furthermore, the absence of prognosis capabilities prevents the ability to predict future events or the advancement of diseases for individuals. However, it is essential to utilize descriptive statistics, exploratory visualization, and thorough analysis to derive significant insights from the information, even with these challenges.\n",
        "\n",
        "The purpose of the project is:\n",
        "\n",
        "\n",
        "*   Conduct in-depth exploratory analysis to understand the distributions, correlations, and patterns among heart disease risk factors within the dataset.\n",
        "*   Explore correlations between different factors (e.g., age, sex, blood pressure, cholesterol) and heart disease to identify potential associations or relationships.\n",
        "\n",
        "*   Generate descriptive statistics (mean, median, standard deviation, etc.) for various heart disease factors and compare them across different demographics (age, gender).\n",
        "*   Create visualizations (histograms, box plots, etc.) to showcase trends and distributions of heart disease risk factors across different age groups or genders.\n",
        "*   Compare and contrast the prevalence of heart disease risk factors between different groups (age brackets, genders) to identify potential disparities or patterns.\n",
        "\n",
        "*   While not creating predictive models, we can analyze which factors seem to have a higher correlation or impact on heart disease without building a formal predictive model.\n",
        "\n",
        "*   Focus on data preprocessing techniques like handling missing values, data normalization, or feature engineering to ensure the data's quality before analysis.\n",
        "\n"
      ],
      "metadata": {
        "id": "JF8S_rtoLLJp"
      }
    },
    {
      "cell_type": "code",
      "execution_count": 1,
      "metadata": {
        "id": "bh4aEfscDbhe",
        "colab": {
          "base_uri": "https://localhost:8080/"
        },
        "outputId": "131c92ab-0f61-4fee-ac68-5a7355bba363"
      },
      "outputs": [
        {
          "output_type": "stream",
          "name": "stdout",
          "text": [
            "Requirement already satisfied: kaggle in /usr/local/lib/python3.10/dist-packages (1.5.16)\n",
            "Requirement already satisfied: six>=1.10 in /usr/local/lib/python3.10/dist-packages (from kaggle) (1.16.0)\n",
            "Requirement already satisfied: certifi in /usr/local/lib/python3.10/dist-packages (from kaggle) (2023.11.17)\n",
            "Requirement already satisfied: python-dateutil in /usr/local/lib/python3.10/dist-packages (from kaggle) (2.8.2)\n",
            "Requirement already satisfied: requests in /usr/local/lib/python3.10/dist-packages (from kaggle) (2.31.0)\n",
            "Requirement already satisfied: tqdm in /usr/local/lib/python3.10/dist-packages (from kaggle) (4.66.1)\n",
            "Requirement already satisfied: python-slugify in /usr/local/lib/python3.10/dist-packages (from kaggle) (8.0.1)\n",
            "Requirement already satisfied: urllib3 in /usr/local/lib/python3.10/dist-packages (from kaggle) (2.0.7)\n",
            "Requirement already satisfied: bleach in /usr/local/lib/python3.10/dist-packages (from kaggle) (6.1.0)\n",
            "Requirement already satisfied: webencodings in /usr/local/lib/python3.10/dist-packages (from bleach->kaggle) (0.5.1)\n",
            "Requirement already satisfied: text-unidecode>=1.3 in /usr/local/lib/python3.10/dist-packages (from python-slugify->kaggle) (1.3)\n",
            "Requirement already satisfied: charset-normalizer<4,>=2 in /usr/local/lib/python3.10/dist-packages (from requests->kaggle) (3.3.2)\n",
            "Requirement already satisfied: idna<4,>=2.5 in /usr/local/lib/python3.10/dist-packages (from requests->kaggle) (3.6)\n"
          ]
        }
      ],
      "source": [
        "!pip install kaggle\n"
      ]
    },
    {
      "cell_type": "markdown",
      "source": [
        "# 1. Data retrieval & manipulation\n",
        "**1.1. Data sources**\n",
        "\n",
        "The following data were retrieved:\n",
        "\n",
        "The \"Framingham\" heart disease dataset includes over 4,240 records,16 columns and 15 attributes. The goal of the dataset is to predict whether the patient has 10-year risk of future (CHD) coronary heart disease : https://www.kaggle.com/datasets/aasheesh200/framingham-heart-study-dataset/data?select=framingham.csv\n",
        "Second dataset consists of four databases: Cleveland, Hungary, Switzerland, and Long Beach V. It contains 76 attributes, including the predicted attribute, but all published experiments refer to using a subset of 14 of them. The \"target\" field refers to the presence of heart disease in the patient. It is integer valued 0 = no disease and 1 = disease. Retrieved from: https://www.kaggle.com/datasets/johnsmith88/heart-disease-dataset?select=heart.csv\n",
        "\n",
        " The third dataset, obtained from a GitHub repository in Excel (.xlsx) format, contains essential attributes related to cardiovascular health. It includes key features such as age, sex, chest pain type, blood pressure, cholesterol levels, and other vital parameters crucial for analyzing heart disease risk factors.Retrieved from : https://github.com/kb22/Heart-Disease-Prediction/blob/master/dataset.csv\n",
        "\n",
        "Here I am attaching the link in which the datasets are shared- https://drive.google.com/drive/folders/1qNsEJUs68TmIWEw2aO8yd2rRMlUL3Cun?usp=sharing"
      ],
      "metadata": {
        "id": "2YErWk1RMjuy"
      }
    },
    {
      "cell_type": "markdown",
      "source": [
        "**1.2. Data Retrieval**\n",
        "\n",
        "The datasets, were initially sourced from Kaggle and github. While an alternative method involves accessing datasets directly from Kaggle using their API, the decision to download the datasets locally and subsequently upload them to Colab was based on their manageable sizes. This approach facilitated swift access and processing within the Colab environment. Hence, utilizing the files.upload() function allows seamless file uploads, ensuring accessibility and utilization of these datasets for subsequent analyses within the Colab notebook.\n",
        "\n",
        "\n"
      ],
      "metadata": {
        "id": "ThqE0eAGONIE"
      }
    },
    {
      "cell_type": "code",
      "source": [
        "from google.colab import files\n",
        "\n",
        "\n",
        "# Upload kaggle.json when prompted\n",
        "uploaded = files.upload()\n"
      ],
      "metadata": {
        "colab": {
          "base_uri": "https://localhost:8080/",
          "height": 142
        },
        "id": "GVpQWo1cFVOS",
        "outputId": "8bc94f87-ef8c-40e2-a735-3a377a0b67c5"
      },
      "execution_count": 2,
      "outputs": [
        {
          "output_type": "display_data",
          "data": {
            "text/plain": [
              "<IPython.core.display.HTML object>"
            ],
            "text/html": [
              "\n",
              "     <input type=\"file\" id=\"files-831a6e4d-b099-4e04-b55b-f6f41e2ad365\" name=\"files[]\" multiple disabled\n",
              "        style=\"border:none\" />\n",
              "     <output id=\"result-831a6e4d-b099-4e04-b55b-f6f41e2ad365\">\n",
              "      Upload widget is only available when the cell has been executed in the\n",
              "      current browser session. Please rerun this cell to enable.\n",
              "      </output>\n",
              "      <script>// Copyright 2017 Google LLC\n",
              "//\n",
              "// Licensed under the Apache License, Version 2.0 (the \"License\");\n",
              "// you may not use this file except in compliance with the License.\n",
              "// You may obtain a copy of the License at\n",
              "//\n",
              "//      http://www.apache.org/licenses/LICENSE-2.0\n",
              "//\n",
              "// Unless required by applicable law or agreed to in writing, software\n",
              "// distributed under the License is distributed on an \"AS IS\" BASIS,\n",
              "// WITHOUT WARRANTIES OR CONDITIONS OF ANY KIND, either express or implied.\n",
              "// See the License for the specific language governing permissions and\n",
              "// limitations under the License.\n",
              "\n",
              "/**\n",
              " * @fileoverview Helpers for google.colab Python module.\n",
              " */\n",
              "(function(scope) {\n",
              "function span(text, styleAttributes = {}) {\n",
              "  const element = document.createElement('span');\n",
              "  element.textContent = text;\n",
              "  for (const key of Object.keys(styleAttributes)) {\n",
              "    element.style[key] = styleAttributes[key];\n",
              "  }\n",
              "  return element;\n",
              "}\n",
              "\n",
              "// Max number of bytes which will be uploaded at a time.\n",
              "const MAX_PAYLOAD_SIZE = 100 * 1024;\n",
              "\n",
              "function _uploadFiles(inputId, outputId) {\n",
              "  const steps = uploadFilesStep(inputId, outputId);\n",
              "  const outputElement = document.getElementById(outputId);\n",
              "  // Cache steps on the outputElement to make it available for the next call\n",
              "  // to uploadFilesContinue from Python.\n",
              "  outputElement.steps = steps;\n",
              "\n",
              "  return _uploadFilesContinue(outputId);\n",
              "}\n",
              "\n",
              "// This is roughly an async generator (not supported in the browser yet),\n",
              "// where there are multiple asynchronous steps and the Python side is going\n",
              "// to poll for completion of each step.\n",
              "// This uses a Promise to block the python side on completion of each step,\n",
              "// then passes the result of the previous step as the input to the next step.\n",
              "function _uploadFilesContinue(outputId) {\n",
              "  const outputElement = document.getElementById(outputId);\n",
              "  const steps = outputElement.steps;\n",
              "\n",
              "  const next = steps.next(outputElement.lastPromiseValue);\n",
              "  return Promise.resolve(next.value.promise).then((value) => {\n",
              "    // Cache the last promise value to make it available to the next\n",
              "    // step of the generator.\n",
              "    outputElement.lastPromiseValue = value;\n",
              "    return next.value.response;\n",
              "  });\n",
              "}\n",
              "\n",
              "/**\n",
              " * Generator function which is called between each async step of the upload\n",
              " * process.\n",
              " * @param {string} inputId Element ID of the input file picker element.\n",
              " * @param {string} outputId Element ID of the output display.\n",
              " * @return {!Iterable<!Object>} Iterable of next steps.\n",
              " */\n",
              "function* uploadFilesStep(inputId, outputId) {\n",
              "  const inputElement = document.getElementById(inputId);\n",
              "  inputElement.disabled = false;\n",
              "\n",
              "  const outputElement = document.getElementById(outputId);\n",
              "  outputElement.innerHTML = '';\n",
              "\n",
              "  const pickedPromise = new Promise((resolve) => {\n",
              "    inputElement.addEventListener('change', (e) => {\n",
              "      resolve(e.target.files);\n",
              "    });\n",
              "  });\n",
              "\n",
              "  const cancel = document.createElement('button');\n",
              "  inputElement.parentElement.appendChild(cancel);\n",
              "  cancel.textContent = 'Cancel upload';\n",
              "  const cancelPromise = new Promise((resolve) => {\n",
              "    cancel.onclick = () => {\n",
              "      resolve(null);\n",
              "    };\n",
              "  });\n",
              "\n",
              "  // Wait for the user to pick the files.\n",
              "  const files = yield {\n",
              "    promise: Promise.race([pickedPromise, cancelPromise]),\n",
              "    response: {\n",
              "      action: 'starting',\n",
              "    }\n",
              "  };\n",
              "\n",
              "  cancel.remove();\n",
              "\n",
              "  // Disable the input element since further picks are not allowed.\n",
              "  inputElement.disabled = true;\n",
              "\n",
              "  if (!files) {\n",
              "    return {\n",
              "      response: {\n",
              "        action: 'complete',\n",
              "      }\n",
              "    };\n",
              "  }\n",
              "\n",
              "  for (const file of files) {\n",
              "    const li = document.createElement('li');\n",
              "    li.append(span(file.name, {fontWeight: 'bold'}));\n",
              "    li.append(span(\n",
              "        `(${file.type || 'n/a'}) - ${file.size} bytes, ` +\n",
              "        `last modified: ${\n",
              "            file.lastModifiedDate ? file.lastModifiedDate.toLocaleDateString() :\n",
              "                                    'n/a'} - `));\n",
              "    const percent = span('0% done');\n",
              "    li.appendChild(percent);\n",
              "\n",
              "    outputElement.appendChild(li);\n",
              "\n",
              "    const fileDataPromise = new Promise((resolve) => {\n",
              "      const reader = new FileReader();\n",
              "      reader.onload = (e) => {\n",
              "        resolve(e.target.result);\n",
              "      };\n",
              "      reader.readAsArrayBuffer(file);\n",
              "    });\n",
              "    // Wait for the data to be ready.\n",
              "    let fileData = yield {\n",
              "      promise: fileDataPromise,\n",
              "      response: {\n",
              "        action: 'continue',\n",
              "      }\n",
              "    };\n",
              "\n",
              "    // Use a chunked sending to avoid message size limits. See b/62115660.\n",
              "    let position = 0;\n",
              "    do {\n",
              "      const length = Math.min(fileData.byteLength - position, MAX_PAYLOAD_SIZE);\n",
              "      const chunk = new Uint8Array(fileData, position, length);\n",
              "      position += length;\n",
              "\n",
              "      const base64 = btoa(String.fromCharCode.apply(null, chunk));\n",
              "      yield {\n",
              "        response: {\n",
              "          action: 'append',\n",
              "          file: file.name,\n",
              "          data: base64,\n",
              "        },\n",
              "      };\n",
              "\n",
              "      let percentDone = fileData.byteLength === 0 ?\n",
              "          100 :\n",
              "          Math.round((position / fileData.byteLength) * 100);\n",
              "      percent.textContent = `${percentDone}% done`;\n",
              "\n",
              "    } while (position < fileData.byteLength);\n",
              "  }\n",
              "\n",
              "  // All done.\n",
              "  yield {\n",
              "    response: {\n",
              "      action: 'complete',\n",
              "    }\n",
              "  };\n",
              "}\n",
              "\n",
              "scope.google = scope.google || {};\n",
              "scope.google.colab = scope.google.colab || {};\n",
              "scope.google.colab._files = {\n",
              "  _uploadFiles,\n",
              "  _uploadFilesContinue,\n",
              "};\n",
              "})(self);\n",
              "</script> "
            ]
          },
          "metadata": {}
        },
        {
          "output_type": "stream",
          "name": "stdout",
          "text": [
            "Saving heart.csv to heart.csv\n",
            "Saving framingham.csv to framingham.csv\n",
            "Saving dataset.xlsx to dataset.xlsx\n"
          ]
        }
      ]
    },
    {
      "cell_type": "markdown",
      "source": [
        "**1.3 Data Loading and Initial Exploration**\n",
        "\n",
        "Now, the two crucial datasets, 'heart.csv' and 'framingham.csv', were loaded using Pandas for subsequent analysis. 'heart.csv' contained vital heart disease-related information, including attributes such as age, sex, cholesterol, and resting blood pressure. Simultaneously, 'framingham.csv' encompassed data regarding factors contributing to heart disease risk. The initial rows of each dataset were printed using head(), offering an initial glimpse into their contents, setting the stage for deeper analysis and exploration."
      ],
      "metadata": {
        "id": "s4lFQJEHP3C1"
      }
    },
    {
      "cell_type": "code",
      "source": [
        "import pandas as pd\n",
        "\n",
        "# Load the datasets\n",
        "dataset1 = pd.read_csv('heart.csv')\n",
        "dataset2 = pd.read_csv('framingham.csv')\n",
        "dataset3 = pd.read_excel('dataset.xlsx')\n",
        "\n"
      ],
      "metadata": {
        "id": "-GDxu3tSFUPT"
      },
      "execution_count": 3,
      "outputs": []
    },
    {
      "cell_type": "code",
      "source": [
        "# Display the first few rows of each dataset\n",
        "print(\"First few rows of heart.csv:\")\n",
        "print(dataset1.head())"
      ],
      "metadata": {
        "id": "Uz1oKyijPa99",
        "colab": {
          "base_uri": "https://localhost:8080/"
        },
        "outputId": "609448c0-b91d-4d4c-c99d-f93f902d25c4"
      },
      "execution_count": 4,
      "outputs": [
        {
          "output_type": "stream",
          "name": "stdout",
          "text": [
            "First few rows of heart.csv:\n",
            "   Age Sex ChestPainType  RestingBP  Cholesterol  FastingBS RestingECG  MaxHR  \\\n",
            "0   40   M           ATA        140          289          0     Normal    172   \n",
            "1   49   F           NAP        160          180          0     Normal    156   \n",
            "2   37   M           ATA        130          283          0         ST     98   \n",
            "3   48   F           ASY        138          214          0     Normal    108   \n",
            "4   54   M           NAP        150          195          0     Normal    122   \n",
            "\n",
            "  ExerciseAngina  Oldpeak ST_Slope  HeartDisease  \n",
            "0              N      0.0       Up             0  \n",
            "1              N      1.0     Flat             1  \n",
            "2              N      0.0       Up             0  \n",
            "3              Y      1.5     Flat             1  \n",
            "4              N      0.0       Up             0  \n"
          ]
        }
      ]
    },
    {
      "cell_type": "code",
      "source": [
        "print(\"\\nFirst few rows of framingham.csv:\")\n",
        "print(dataset2.head())"
      ],
      "metadata": {
        "colab": {
          "base_uri": "https://localhost:8080/"
        },
        "id": "FERLMwdLu0rc",
        "outputId": "a2103721-0575-44a2-979f-d457727167c5"
      },
      "execution_count": 5,
      "outputs": [
        {
          "output_type": "stream",
          "name": "stdout",
          "text": [
            "\n",
            "First few rows of framingham.csv:\n",
            "   male  Age  education  currentSmoker  cigsPerDay  BPMeds  prevalentStroke  \\\n",
            "0     1   39        4.0              0         0.0     0.0                0   \n",
            "1     0   46        2.0              0         0.0     0.0                0   \n",
            "2     1   48        1.0              1        20.0     0.0                0   \n",
            "3     0   61        3.0              1        30.0     0.0                0   \n",
            "4     0   46        3.0              1        23.0     0.0                0   \n",
            "\n",
            "   prevalentHyp  diabetes  totChol  sysBP  diaBP    BMI  heartRate  glucose  \\\n",
            "0             0         0    195.0  106.0   70.0  26.97       80.0     77.0   \n",
            "1             0         0    250.0  121.0   81.0  28.73       95.0     76.0   \n",
            "2             0         0    245.0  127.5   80.0  25.34       75.0     70.0   \n",
            "3             1         0    225.0  150.0   95.0  28.58       65.0    103.0   \n",
            "4             0         0    285.0  130.0   84.0  23.10       85.0     85.0   \n",
            "\n",
            "   TenYearCHD  \n",
            "0           0  \n",
            "1           0  \n",
            "2           0  \n",
            "3           1  \n",
            "4           0  \n"
          ]
        }
      ]
    },
    {
      "cell_type": "code",
      "source": [
        "print(\"\\nFirst few rows of dataset3.xlsx:\")\n",
        "print(dataset3.head())"
      ],
      "metadata": {
        "colab": {
          "base_uri": "https://localhost:8080/"
        },
        "id": "JLsvTHqwu3Fb",
        "outputId": "7149b24c-0952-45e8-a6ec-610937b2736d"
      },
      "execution_count": 6,
      "outputs": [
        {
          "output_type": "stream",
          "name": "stdout",
          "text": [
            "\n",
            "First few rows of dataset3.xlsx:\n",
            "   Age  sex  cp  trestbps  chol  fbs  restecg  thalach  exang  oldpeak  slope  \\\n",
            "0   63    1   3       145   233    1        0      150      0      2.3      0   \n",
            "1   37    1   2       130   250    0        1      187      0      3.5      0   \n",
            "2   41    0   1       130   204    0        0      172      0      1.4      2   \n",
            "3   56    1   1       120   236    0        1      178      0      0.8      2   \n",
            "4   57    0   0       120   354    0        1      163      1      0.6      2   \n",
            "\n",
            "   ca  thal  target  \n",
            "0   0     1       1  \n",
            "1   0     2       1  \n",
            "2   0     2       1  \n",
            "3   0     2       1  \n",
            "4   0     2       1  \n"
          ]
        }
      ]
    },
    {
      "cell_type": "markdown",
      "source": [
        "**1.4 Merging Datasets Based on 'Age' for Comprehensive Analysis**\n",
        "\n",
        "After retrieving and loading the datasets, they were merged based on the shared attribute 'Age'. This merging process resulted in the creation of the 'merged_data' dataset, consolidating essential heart disease-related factors from both 'heart.csv' and 'framingham.csv'. The merged dataset provides a comprehensive view of heart disease factors across various attributes, setting the stage for detailed analysis and exploration. Displaying the initial rows of the 'merged_data' using head() offers an initial glimpse into the combined dataset structure, laying the groundwork for subsequent in-depth examination and correlation analysis.\n"
      ],
      "metadata": {
        "id": "UfDHo2RxQw85"
      }
    },
    {
      "cell_type": "code",
      "source": [
        "# Remove duplicates from all datasets based on 'Age' column\n",
        "dataset1 = dataset1.drop_duplicates(subset='Age')\n",
        "dataset2 = dataset2.drop_duplicates(subset='Age')\n",
        "dataset3 = dataset3.drop_duplicates(subset='Age')\n"
      ],
      "metadata": {
        "id": "J9Xb2ti6HxlD"
      },
      "execution_count": 7,
      "outputs": []
    },
    {
      "cell_type": "code",
      "source": [
        "# Merge dataset1 with dataset2\n",
        "merged_1_2 = pd.merge(dataset1, dataset2, how='inner', on='Age')\n"
      ],
      "metadata": {
        "id": "LlLgfj1Q0udi"
      },
      "execution_count": 8,
      "outputs": []
    },
    {
      "cell_type": "code",
      "source": [
        "#print dataset after merging dataset1 with dataset2\n",
        "print(\"Merged dataset1 with dataset2:\")\n",
        "print(merged_1_2.head)\n",
        "\n"
      ],
      "metadata": {
        "colab": {
          "base_uri": "https://localhost:8080/"
        },
        "id": "hWe60Mx90xWB",
        "outputId": "01c42c5c-8c15-4387-fb83-fb2478aed764"
      },
      "execution_count": 9,
      "outputs": [
        {
          "output_type": "stream",
          "name": "stdout",
          "text": [
            "Merged dataset1 with dataset2:\n",
            "<bound method NDFrame.head of     Age Sex ChestPainType  RestingBP  Cholesterol  FastingBS RestingECG  \\\n",
            "0    40   M           ATA        140          289          0     Normal   \n",
            "1    49   F           NAP        160          180          0     Normal   \n",
            "2    37   M           ATA        130          283          0         ST   \n",
            "3    48   F           ASY        138          214          0     Normal   \n",
            "4    54   M           NAP        150          195          0     Normal   \n",
            "5    39   M           NAP        120          339          0     Normal   \n",
            "6    45   F           ATA        130          237          0     Normal   \n",
            "7    58   M           ATA        136          164          0         ST   \n",
            "8    42   F           NAP        115          211          0         ST   \n",
            "9    38   M           ASY        110          196          0     Normal   \n",
            "10   43   F           ATA        120          201          0     Normal   \n",
            "11   60   M           ASY        100          248          0     Normal   \n",
            "12   36   M           ATA        120          267          0     Normal   \n",
            "13   44   M           ATA        120          184          0     Normal   \n",
            "14   53   M           ASY        124          260          0         ST   \n",
            "15   52   M           ATA        120          284          0     Normal   \n",
            "16   51   M           ATA        125          188          0     Normal   \n",
            "17   56   M           NAP        130          167          0     Normal   \n",
            "18   41   M           ASY        130          172          0         ST   \n",
            "19   32   M           ATA        125          254          0     Normal   \n",
            "20   65   M           ASY        140          306          1     Normal   \n",
            "21   35   M           ATA        150          264          0     Normal   \n",
            "22   59   M           NAP        130          318          0     Normal   \n",
            "23   50   M           ATA        140          216          0     Normal   \n",
            "24   47   F           ASY        120          205          0     Normal   \n",
            "25   46   M           ASY        120          277          0     Normal   \n",
            "26   57   M           ATA        140          265          0         ST   \n",
            "27   55   M           ASY        140          268          0     Normal   \n",
            "28   63   M           ASY        150          223          0     Normal   \n",
            "29   66   M           ASY        140          139          0     Normal   \n",
            "30   34   M           ATA        150          214          0         ST   \n",
            "31   33   F           ASY        100          246          0     Normal   \n",
            "32   61   F           ASY        130          294          0         ST   \n",
            "33   62   F            TA        160          193          0     Normal   \n",
            "34   68   M           ASY        145            0          1     Normal   \n",
            "35   64   F           ASY         95            0          1     Normal   \n",
            "36   69   M           ASY        135            0          0     Normal   \n",
            "37   67   M            TA        145            0          0        LVH   \n",
            "38   70   M           ASY        140            0          1     Normal   \n",
            "\n",
            "    MaxHR ExerciseAngina  Oldpeak  ... prevalentStroke  prevalentHyp  \\\n",
            "0     172              N      0.0  ...               0             0   \n",
            "1     156              N      1.0  ...               0             0   \n",
            "2      98              N      0.0  ...               0             1   \n",
            "3     108              Y      1.5  ...               0             0   \n",
            "4     122              N      0.0  ...               0             1   \n",
            "5     170              N      0.0  ...               0             0   \n",
            "6     170              N      0.0  ...               0             0   \n",
            "7      99              Y      2.0  ...               0             1   \n",
            "8     137              N      0.0  ...               0             0   \n",
            "9     166              N      0.0  ...               0             1   \n",
            "10    165              N      0.0  ...               0             1   \n",
            "11    125              N      1.0  ...               0             0   \n",
            "12    160              N      3.0  ...               0             0   \n",
            "13    142              N      1.0  ...               0             1   \n",
            "14    112              Y      3.0  ...               0             1   \n",
            "15    118              N      0.0  ...               0             1   \n",
            "16    145              N      0.0  ...               0             0   \n",
            "17    114              N      0.0  ...               0             0   \n",
            "18    130              N      2.0  ...               0             1   \n",
            "19    155              N      0.0  ...               0             0   \n",
            "20     87              Y      1.5  ...               0             1   \n",
            "21    168              N      0.0  ...               0             1   \n",
            "22    120              Y      1.0  ...               0             1   \n",
            "23    170              N      0.0  ...               0             0   \n",
            "24     98              Y      2.0  ...               0             0   \n",
            "25    125              Y      1.0  ...               0             0   \n",
            "26    145              Y      1.0  ...               0             0   \n",
            "27    128              Y      1.5  ...               0             1   \n",
            "28    115              N      0.0  ...               0             0   \n",
            "29     94              Y      1.0  ...               0             1   \n",
            "30    168              N      0.0  ...               0             0   \n",
            "31    150              Y      1.0  ...               0             0   \n",
            "32    120              Y      1.0  ...               0             1   \n",
            "33    116              N      0.0  ...               0             0   \n",
            "34    136              N      1.8  ...               0             1   \n",
            "35    145              N      1.1  ...               0             1   \n",
            "36    130              N      0.0  ...               0             1   \n",
            "37    125              N      0.0  ...               0             1   \n",
            "38    157              Y      2.0  ...               1             1   \n",
            "\n",
            "    diabetes  totChol  sysBP  diaBP    BMI  heartRate  glucose  TenYearCHD  \n",
            "0          0    205.0  158.0  102.0  25.45       75.0     87.0           1  \n",
            "1          0    208.0   96.0   63.0  20.68       65.0     98.0           0  \n",
            "2          0    225.0  124.5   92.5  38.53       95.0     83.0           0  \n",
            "3          0    245.0  127.5   80.0  25.34       75.0     70.0           0  \n",
            "4          0    214.0  147.0   74.0  24.71       96.0     87.0           0  \n",
            "5          0    195.0  106.0   70.0  26.97       80.0     77.0           0  \n",
            "6          0    313.0  100.0   71.0  21.68       79.0     78.0           0  \n",
            "7          0    195.0  153.0   80.5  23.36       60.0     73.0           0  \n",
            "8          0    190.0  108.0   70.5  21.59       72.0     85.0           0  \n",
            "9          0    221.0  140.0   90.0  21.35       95.0     70.0           1  \n",
            "10         0    228.0  180.0  110.0  30.30       77.0     99.0           0  \n",
            "11         0    260.0  110.0   72.5  26.59       65.0      NaN           0  \n",
            "12         0    295.0  102.0   68.0  28.15       60.0     63.0           0  \n",
            "13         0    270.0  137.5   90.0  21.96       75.0     83.0           0  \n",
            "14         1    311.0  206.0   92.0  21.51       76.0    215.0           1  \n",
            "15         0    260.0  141.5   89.0  26.36       76.0     79.0           0  \n",
            "16         0    216.0  112.0   66.0  23.47       90.0     95.0           0  \n",
            "17         0    257.0  153.5  102.0  28.09       72.0     75.0           0  \n",
            "18         0    332.0  124.0   88.0  31.31       65.0     84.0           0  \n",
            "19         0    242.0  111.0   70.0  29.84       80.0     88.0           0  \n",
            "20         0    252.0  179.5  114.0  30.47       90.0     87.0           0  \n",
            "21         0    225.0  132.0   91.0  26.09       73.0     83.0           0  \n",
            "22         0    209.0  150.0   85.0  20.77       90.0     88.0           1  \n",
            "23         0    254.0  133.0   76.0  22.91       75.0     76.0           0  \n",
            "24         0    294.0  102.0   68.0  24.18       62.0     66.0           1  \n",
            "25         0    250.0  121.0   81.0  28.73       95.0     76.0           0  \n",
            "26         0    235.0  126.5   80.0  24.88       83.0     72.0           0  \n",
            "27         0    183.0  158.0   86.0  24.45       70.0    102.0           0  \n",
            "28         0    205.0  138.0   71.0  33.11       60.0     85.0           1  \n",
            "29         0    311.0  154.0   80.0  28.55       60.0    104.0           0  \n",
            "30         0    163.0  107.0   71.0  23.88       73.0     80.0           0  \n",
            "31         0    199.0  116.0   81.0  21.61       75.0     93.0           0  \n",
            "32         0    225.0  150.0   95.0  28.58       65.0    103.0           1  \n",
            "33         0    240.0  145.0   82.5  28.27       63.0     75.0           0  \n",
            "34         1    164.0  142.0   85.0  30.28       70.0    120.0           1  \n",
            "35         0    282.0  158.0  105.0  24.37       75.0     71.0           0  \n",
            "36         0    215.0  164.0   80.0  17.23      100.0      NaN           0  \n",
            "37         0    254.0  157.0   89.0  24.25       60.0     74.0           0  \n",
            "38         0    107.0  143.0   93.0    NaN       68.0     62.0           1  \n",
            "\n",
            "[39 rows x 27 columns]>\n"
          ]
        }
      ]
    },
    {
      "cell_type": "code",
      "source": [
        "# Merge dataset2 with dataset3\n",
        "merged_2_3 = pd.merge(dataset2, dataset3, how='inner', on='Age')\n"
      ],
      "metadata": {
        "id": "1SERBHGG06SM"
      },
      "execution_count": 10,
      "outputs": []
    },
    {
      "cell_type": "code",
      "source": [
        "#print dataset after merginf dataset2 with dataset3\n",
        "print(\"\\nMerged dataset2 with dataset3:\")\n",
        "print(merged_2_3)\n"
      ],
      "metadata": {
        "colab": {
          "base_uri": "https://localhost:8080/"
        },
        "id": "ELnPYqiX08R-",
        "outputId": "aaf851b5-b8a0-4621-d9ab-9cc296e7e0b5"
      },
      "execution_count": 11,
      "outputs": [
        {
          "output_type": "stream",
          "name": "stdout",
          "text": [
            "\n",
            "Merged dataset2 with dataset3:\n",
            "    male  Age  education  currentSmoker  cigsPerDay  BPMeds  prevalentStroke  \\\n",
            "0      1   39        4.0              0         0.0     0.0                0   \n",
            "1      0   46        2.0              0         0.0     0.0                0   \n",
            "2      1   48        1.0              1        20.0     0.0                0   \n",
            "3      0   61        3.0              1        30.0     0.0                0   \n",
            "4      0   43        2.0              0         0.0     0.0                0   \n",
            "5      0   63        1.0              0         0.0     0.0                0   \n",
            "6      0   45        2.0              1        20.0     0.0                0   \n",
            "7      1   52        1.0              0         0.0     0.0                0   \n",
            "8      0   50        1.0              0         0.0     0.0                0   \n",
            "9      0   41        3.0              0         0.0     1.0                0   \n",
            "10     0   38        2.0              1        20.0     0.0                0   \n",
            "11     0   42        2.0              1        30.0     0.0                0   \n",
            "12     1   44        2.0              1        30.0     0.0                0   \n",
            "13     1   47        4.0              1        20.0     0.0                0   \n",
            "14     0   60        1.0              0         0.0     0.0                0   \n",
            "15     1   35        2.0              1        20.0     0.0                0   \n",
            "16     0   59        1.0              0         0.0     0.0                0   \n",
            "17     1   54        1.0              1        20.0     0.0                0   \n",
            "18     1   37        2.0              0         0.0     0.0                0   \n",
            "19     1   56        NaN              0         0.0     0.0                0   \n",
            "20     0   53        3.0              0         0.0     1.0                0   \n",
            "21     0   49        2.0              0         0.0     0.0                0   \n",
            "22     0   65        1.0              0         0.0     0.0                0   \n",
            "23     1   51        4.0              0         0.0     0.0                0   \n",
            "24     0   62        1.0              0         0.0     0.0                0   \n",
            "25     0   40        4.0              1        20.0     0.0                0   \n",
            "26     0   67        1.0              0         0.0     0.0                0   \n",
            "27     0   57        1.0              1         3.0     0.0                0   \n",
            "28     0   66        1.0              0         0.0     0.0                0   \n",
            "29     0   64        1.0              0         0.0     0.0                0   \n",
            "30     0   55        2.0              0         0.0     0.0                0   \n",
            "31     0   58        2.0              0         0.0     0.0                0   \n",
            "32     0   34        NaN              0         0.0     0.0                0   \n",
            "33     1   68        1.0              0         0.0     0.0                0   \n",
            "34     0   70        1.0              0         0.0     0.0                1   \n",
            "35     0   69        2.0              0         0.0     0.0                0   \n",
            "\n",
            "    prevalentHyp  diabetes  totChol  ...  chol  fbs  restecg  thalach  exang  \\\n",
            "0              0         0    195.0  ...   321    0        0      182      0   \n",
            "1              0         0    250.0  ...   177    0        0      160      1   \n",
            "2              0         0    245.0  ...   275    0        1      139      0   \n",
            "3              1         0    225.0  ...   243    1        1      137      1   \n",
            "4              1         0    228.0  ...   247    0        1      171      0   \n",
            "5              0         0    205.0  ...   233    1        0      150      0   \n",
            "6              0         0    313.0  ...   208    0        0      148      1   \n",
            "7              1         0    260.0  ...   199    1        1      162      0   \n",
            "8              0         0    254.0  ...   219    0        1      158      0   \n",
            "9              1         0    332.0  ...   204    0        0      172      0   \n",
            "10             1         0    221.0  ...   175    0        1      173      0   \n",
            "11             0         0    190.0  ...   226    0        1      178      0   \n",
            "12             1         0    270.0  ...   263    0        1      173      0   \n",
            "13             0         0    294.0  ...   257    0        0      156      0   \n",
            "14             0         0    260.0  ...   318    0        1      160      0   \n",
            "15             1         0    225.0  ...   183    0        1      182      0   \n",
            "16             1         0    209.0  ...   234    0        1      161      0   \n",
            "17             1         0    214.0  ...   239    0        1      160      0   \n",
            "18             1         0    225.0  ...   250    0        1      187      0   \n",
            "19             0         0    257.0  ...   236    0        1      178      0   \n",
            "20             1         1    311.0  ...   197    1        0      152      0   \n",
            "21             0         0    208.0  ...   266    0        1      171      0   \n",
            "22             1         0    252.0  ...   417    1        0      157      0   \n",
            "23             0         0    216.0  ...   175    0        1      123      0   \n",
            "24             0         0    240.0  ...   231    0        1      146      0   \n",
            "25             0         0    205.0  ...   199    0        1      178      1   \n",
            "26             1         0    254.0  ...   564    0        0      160      0   \n",
            "27             0         0    235.0  ...   354    0        1      163      1   \n",
            "28             1         0    311.0  ...   226    0        1      114      0   \n",
            "29             1         0    282.0  ...   211    0        0      144      1   \n",
            "30             1         0    183.0  ...   250    0        0      161      0   \n",
            "31             1         0    195.0  ...   283    1        0      162      0   \n",
            "32             0         0    163.0  ...   182    0        0      174      0   \n",
            "33             1         1    164.0  ...   277    0        1      151      0   \n",
            "34             1         0    107.0  ...   245    0        0      143      0   \n",
            "35             1         0    215.0  ...   239    0        1      151      0   \n",
            "\n",
            "    oldpeak  slope  ca  thal  target  \n",
            "0       0.0      2   0     2       1  \n",
            "1       1.4      0   0     2       1  \n",
            "2       0.2      2   0     2       1  \n",
            "3       1.0      1   0     2       1  \n",
            "4       1.5      2   0     2       1  \n",
            "5       2.3      0   0     1       1  \n",
            "6       3.0      1   0     2       1  \n",
            "7       0.5      2   0     3       1  \n",
            "8       1.6      1   0     2       1  \n",
            "9       1.4      2   0     2       1  \n",
            "10      0.0      2   4     2       1  \n",
            "11      0.0      2   0     2       1  \n",
            "12      0.0      2   0     3       1  \n",
            "13      0.0      2   0     2       1  \n",
            "14      0.0      2   1     2       1  \n",
            "15      1.4      2   0     2       1  \n",
            "16      0.5      1   0     3       1  \n",
            "17      1.2      2   0     2       1  \n",
            "18      3.5      0   0     2       1  \n",
            "19      0.8      2   0     2       1  \n",
            "20      1.2      0   0     2       1  \n",
            "21      0.6      2   0     2       1  \n",
            "22      0.8      2   1     2       1  \n",
            "23      0.6      2   0     2       1  \n",
            "24      1.8      1   3     3       1  \n",
            "25      1.4      2   0     3       1  \n",
            "26      1.6      1   0     3       1  \n",
            "27      0.6      2   0     2       1  \n",
            "28      2.6      0   0     2       1  \n",
            "29      1.8      1   0     2       1  \n",
            "30      1.4      1   0     2       1  \n",
            "31      1.0      2   0     2       1  \n",
            "32      0.0      2   0     2       1  \n",
            "33      1.0      2   1     3       1  \n",
            "34      0.0      2   0     2       1  \n",
            "35      1.8      2   2     2       1  \n",
            "\n",
            "[36 rows x 29 columns]\n"
          ]
        }
      ]
    },
    {
      "cell_type": "code",
      "source": [
        "\n",
        "# Merge all three datasets\n",
        "merged_data = pd.merge(merged_1_2, dataset3, how='inner', on='Age')\n",
        "print(\"\\nMerged all three datasets:\")\n",
        "print(merged_data)"
      ],
      "metadata": {
        "colab": {
          "base_uri": "https://localhost:8080/"
        },
        "id": "mZyd-BOv1B3E",
        "outputId": "a618dc55-7c95-4193-b744-058f1c627c7b"
      },
      "execution_count": 12,
      "outputs": [
        {
          "output_type": "stream",
          "name": "stdout",
          "text": [
            "\n",
            "Merged all three datasets:\n",
            "    Age Sex ChestPainType  RestingBP  Cholesterol  FastingBS RestingECG  \\\n",
            "0    40   M           ATA        140          289          0     Normal   \n",
            "1    49   F           NAP        160          180          0     Normal   \n",
            "2    37   M           ATA        130          283          0         ST   \n",
            "3    48   F           ASY        138          214          0     Normal   \n",
            "4    54   M           NAP        150          195          0     Normal   \n",
            "5    39   M           NAP        120          339          0     Normal   \n",
            "6    45   F           ATA        130          237          0     Normal   \n",
            "7    58   M           ATA        136          164          0         ST   \n",
            "8    42   F           NAP        115          211          0         ST   \n",
            "9    38   M           ASY        110          196          0     Normal   \n",
            "10   43   F           ATA        120          201          0     Normal   \n",
            "11   60   M           ASY        100          248          0     Normal   \n",
            "12   44   M           ATA        120          184          0     Normal   \n",
            "13   53   M           ASY        124          260          0         ST   \n",
            "14   52   M           ATA        120          284          0     Normal   \n",
            "15   51   M           ATA        125          188          0     Normal   \n",
            "16   56   M           NAP        130          167          0     Normal   \n",
            "17   41   M           ASY        130          172          0         ST   \n",
            "18   65   M           ASY        140          306          1     Normal   \n",
            "19   35   M           ATA        150          264          0     Normal   \n",
            "20   59   M           NAP        130          318          0     Normal   \n",
            "21   50   M           ATA        140          216          0     Normal   \n",
            "22   47   F           ASY        120          205          0     Normal   \n",
            "23   46   M           ASY        120          277          0     Normal   \n",
            "24   57   M           ATA        140          265          0         ST   \n",
            "25   55   M           ASY        140          268          0     Normal   \n",
            "26   63   M           ASY        150          223          0     Normal   \n",
            "27   66   M           ASY        140          139          0     Normal   \n",
            "28   34   M           ATA        150          214          0         ST   \n",
            "29   61   F           ASY        130          294          0         ST   \n",
            "30   62   F            TA        160          193          0     Normal   \n",
            "31   68   M           ASY        145            0          1     Normal   \n",
            "32   64   F           ASY         95            0          1     Normal   \n",
            "33   69   M           ASY        135            0          0     Normal   \n",
            "34   67   M            TA        145            0          0        LVH   \n",
            "35   70   M           ASY        140            0          1     Normal   \n",
            "\n",
            "    MaxHR ExerciseAngina  Oldpeak  ... chol  fbs  restecg  thalach  exang  \\\n",
            "0     172              N      0.0  ...  199    0        1      178      1   \n",
            "1     156              N      1.0  ...  266    0        1      171      0   \n",
            "2      98              N      0.0  ...  250    0        1      187      0   \n",
            "3     108              Y      1.5  ...  275    0        1      139      0   \n",
            "4     122              N      0.0  ...  239    0        1      160      0   \n",
            "5     170              N      0.0  ...  321    0        0      182      0   \n",
            "6     170              N      0.0  ...  208    0        0      148      1   \n",
            "7      99              Y      2.0  ...  283    1        0      162      0   \n",
            "8     137              N      0.0  ...  226    0        1      178      0   \n",
            "9     166              N      0.0  ...  175    0        1      173      0   \n",
            "10    165              N      0.0  ...  247    0        1      171      0   \n",
            "11    125              N      1.0  ...  318    0        1      160      0   \n",
            "12    142              N      1.0  ...  263    0        1      173      0   \n",
            "13    112              Y      3.0  ...  197    1        0      152      0   \n",
            "14    118              N      0.0  ...  199    1        1      162      0   \n",
            "15    145              N      0.0  ...  175    0        1      123      0   \n",
            "16    114              N      0.0  ...  236    0        1      178      0   \n",
            "17    130              N      2.0  ...  204    0        0      172      0   \n",
            "18     87              Y      1.5  ...  417    1        0      157      0   \n",
            "19    168              N      0.0  ...  183    0        1      182      0   \n",
            "20    120              Y      1.0  ...  234    0        1      161      0   \n",
            "21    170              N      0.0  ...  219    0        1      158      0   \n",
            "22     98              Y      2.0  ...  257    0        0      156      0   \n",
            "23    125              Y      1.0  ...  177    0        0      160      1   \n",
            "24    145              Y      1.0  ...  354    0        1      163      1   \n",
            "25    128              Y      1.5  ...  250    0        0      161      0   \n",
            "26    115              N      0.0  ...  233    1        0      150      0   \n",
            "27     94              Y      1.0  ...  226    0        1      114      0   \n",
            "28    168              N      0.0  ...  182    0        0      174      0   \n",
            "29    120              Y      1.0  ...  243    1        1      137      1   \n",
            "30    116              N      0.0  ...  231    0        1      146      0   \n",
            "31    136              N      1.8  ...  277    0        1      151      0   \n",
            "32    145              N      1.1  ...  211    0        0      144      1   \n",
            "33    130              N      0.0  ...  239    0        1      151      0   \n",
            "34    125              N      0.0  ...  564    0        0      160      0   \n",
            "35    157              Y      2.0  ...  245    0        0      143      0   \n",
            "\n",
            "    oldpeak  slope  ca  thal  target  \n",
            "0       1.4      2   0     3       1  \n",
            "1       0.6      2   0     2       1  \n",
            "2       3.5      0   0     2       1  \n",
            "3       0.2      2   0     2       1  \n",
            "4       1.2      2   0     2       1  \n",
            "5       0.0      2   0     2       1  \n",
            "6       3.0      1   0     2       1  \n",
            "7       1.0      2   0     2       1  \n",
            "8       0.0      2   0     2       1  \n",
            "9       0.0      2   4     2       1  \n",
            "10      1.5      2   0     2       1  \n",
            "11      0.0      2   1     2       1  \n",
            "12      0.0      2   0     3       1  \n",
            "13      1.2      0   0     2       1  \n",
            "14      0.5      2   0     3       1  \n",
            "15      0.6      2   0     2       1  \n",
            "16      0.8      2   0     2       1  \n",
            "17      1.4      2   0     2       1  \n",
            "18      0.8      2   1     2       1  \n",
            "19      1.4      2   0     2       1  \n",
            "20      0.5      1   0     3       1  \n",
            "21      1.6      1   0     2       1  \n",
            "22      0.0      2   0     2       1  \n",
            "23      1.4      0   0     2       1  \n",
            "24      0.6      2   0     2       1  \n",
            "25      1.4      1   0     2       1  \n",
            "26      2.3      0   0     1       1  \n",
            "27      2.6      0   0     2       1  \n",
            "28      0.0      2   0     2       1  \n",
            "29      1.0      1   0     2       1  \n",
            "30      1.8      1   3     3       1  \n",
            "31      1.0      2   1     3       1  \n",
            "32      1.8      1   0     2       1  \n",
            "33      1.8      2   2     2       1  \n",
            "34      1.6      1   0     3       1  \n",
            "35      0.0      2   0     2       1  \n",
            "\n",
            "[36 rows x 40 columns]\n"
          ]
        }
      ]
    },
    {
      "cell_type": "markdown",
      "source": [
        "**1.5 Data Aggregation and Statistical Analysis**\n",
        "\n",
        "After the datasets were merged, various operations were performed to derive meaningful insights. A pivot table, employing the 'mean' aggregation function, was created from the 'merged_data'. This pivot table, indexed by 'Age' and with 'Sex' as columns, focuses on the average cholesterol levels. Additionally, a GroupBy operation based on 'TenYearCHD' was executed to compute mean systolic ('sysBP') and diastolic ('diaBP') blood pressures. Furthermore, basic aggregation functions were applied individually; the average cholesterol across the merged dataset was calculated, and the total number of rows within the dataset was determined. Printing the resulting pivot table, grouped data, average cholesterol value, and total dataset rows offers key statistical insights, facilitating a deeper understanding of heart disease factors and dataset characteristics."
      ],
      "metadata": {
        "id": "_pVRwFnORJwO"
      }
    },
    {
      "cell_type": "code",
      "source": [
        "# Pivot Table example (using mean as an aggregation function)\n",
        "pivot_table = merged_data.pivot_table(index='Age', columns='Sex', values='Cholesterol', aggfunc='mean')\n"
      ],
      "metadata": {
        "id": "23dtpvmcJIIf"
      },
      "execution_count": 13,
      "outputs": []
    },
    {
      "cell_type": "code",
      "source": [
        "# GroupBy example (using count as an aggregation function)\n",
        "grouped_data = merged_data.groupby('TenYearCHD').agg({'sysBP': 'mean', 'diaBP': 'mean'})\n"
      ],
      "metadata": {
        "id": "m3KrBqhoSTpx"
      },
      "execution_count": 14,
      "outputs": []
    },
    {
      "cell_type": "code",
      "source": [
        "# Aggregation functions\n",
        "avg_chol = merged_data['Cholesterol'].mean()\n",
        "total_rows = len(merged_data)\n",
        "print(\"Pivot Table:\")\n",
        "print(pivot_table.head())\n",
        "\n",
        "print(\"\\nGrouped Data:\")\n",
        "print(grouped_data)\n",
        "\n",
        "print(\"\\nAverage Cholesterol:\", avg_chol)\n",
        "print(\"Total Rows in Dataset:\", total_rows)"
      ],
      "metadata": {
        "id": "rjOivjH8SVHE",
        "colab": {
          "base_uri": "https://localhost:8080/"
        },
        "outputId": "1a72d782-311e-4415-d357-8913d09fa28e"
      },
      "execution_count": 15,
      "outputs": [
        {
          "output_type": "stream",
          "name": "stdout",
          "text": [
            "Pivot Table:\n",
            "Sex   F      M\n",
            "Age           \n",
            "34  NaN  214.0\n",
            "35  NaN  264.0\n",
            "37  NaN  283.0\n",
            "38  NaN  196.0\n",
            "39  NaN  339.0\n",
            "\n",
            "Grouped Data:\n",
            "                 sysBP      diaBP\n",
            "TenYearCHD                       \n",
            "0           135.388889  83.500000\n",
            "1           147.666667  86.777778\n",
            "\n",
            "Average Cholesterol: 199.83333333333334\n",
            "Total Rows in Dataset: 36\n"
          ]
        }
      ]
    },
    {
      "cell_type": "markdown",
      "source": [
        "**# Heart Health Comparison and Correlations**"
      ],
      "metadata": {
        "id": "5jZeWAa8SqEJ"
      }
    },
    {
      "cell_type": "markdown",
      "source": [
        "**2.1 Exploratory Data Visualizations**\n",
        "In our exploration of heart health factors, data visualization played a pivotal role in offering insights and comparative analyses across critical indicators. Utilizing various visualization methods, we embarked on uncovering correlations and patterns within these factors. The histograms served as an effective tool for displaying the distribution of ages in 'dataset1,' allowing us to understand age frequencies within the dataset.\n",
        "\n",
        "The bar chart facilitated a comparative analysis, examining cholesterol levels categorized by gender ('Sex') in 'dataset1,' shedding light on potential gender-based differences in cholesterol levels. Leveraging scatter plots, we delved into exploring relationships, specifically visualizing the interplay between cholesterol and resting blood pressure ('RestingBP'), color-coded to indicate the presence or absence of heart disease ('HeartDisease').\n",
        "\n",
        "Lastly, employing a bar plot, we showcased the prevalence of various 'ChestPainType' occurrences across distinct age brackets within the merged dataset ('merged_data'). These visualizations collectively contributed to our understanding by offering visual cues and facilitating comparisons among crucial heart health indicators."
      ],
      "metadata": {
        "id": "CEwl-73ISwpe"
      }
    },
    {
      "cell_type": "code",
      "source": [
        "import matplotlib.pyplot as plt\n",
        "import seaborn as sns\n",
        "\n",
        "# Histogram\n",
        "plt.figure(figsize=(8, 6))\n",
        "plt.hist(dataset1['Age'], bins=20, color='skyblue')\n",
        "plt.xlabel('Age')\n",
        "plt.ylabel('Frequency')\n",
        "plt.title('Distribution of Ages')\n",
        "plt.show()"
      ],
      "metadata": {
        "id": "R0X4LXz5NEoC",
        "colab": {
          "base_uri": "https://localhost:8080/",
          "height": 564
        },
        "outputId": "9913a83d-5c5a-409a-e6a7-db94de80c07d"
      },
      "execution_count": 16,
      "outputs": [
        {
          "output_type": "display_data",
          "data": {
            "text/plain": [
              "<Figure size 800x600 with 1 Axes>"
            ],
            "image/png": "[encoded data removed]"
          },
          "metadata": {}
        }
      ]
    },
    {
      "cell_type": "code",
      "source": [
        "# Bar Chart\n",
        "plt.figure(figsize=(8, 6))\n",
        "sns.barplot(x='Sex', y='Cholesterol', data=dataset1)\n",
        "plt.xlabel('Sex')\n",
        "plt.ylabel('Cholesterol Level')\n",
        "plt.title('Cholesterol Levels by Sex')\n",
        "plt.show()\n"
      ],
      "metadata": {
        "id": "SXGYFv3yTlJN",
        "colab": {
          "base_uri": "https://localhost:8080/",
          "height": 564
        },
        "outputId": "e1e2be01-5aee-4e4f-a085-75ca17497663"
      },
      "execution_count": 17,
      "outputs": [
        {
          "output_type": "display_data",
          "data": {
            "text/plain": [
              "<Figure size 800x600 with 1 Axes>"
            ],
            "image/png": "[encoded data removed]"
          },
          "metadata": {}
        }
      ]
    },
    {
      "cell_type": "code",
      "source": [
        "# Scatter Plot\n",
        "plt.figure(figsize=(8, 6))\n",
        "sns.scatterplot(x='RestingBP', y='Cholesterol', data=dataset1, hue='HeartDisease')\n",
        "plt.xlabel('Resting Blood Pressure')\n",
        "plt.ylabel('Cholesterol')\n",
        "plt.title('Cholesterol vs Resting BP (Colored by Heart Disease)')\n",
        "plt.show()\n"
      ],
      "metadata": {
        "id": "u7eRkVANTm-p",
        "colab": {
          "base_uri": "https://localhost:8080/",
          "height": 564
        },
        "outputId": "ffe0474a-20b7-4bad-8efc-67e534bdb77d"
      },
      "execution_count": 18,
      "outputs": [
        {
          "output_type": "display_data",
          "data": {
            "text/plain": [
              "<Figure size 800x600 with 1 Axes>"
            ],
            "image/png": "[encoded data removed]"
          },
          "metadata": {}
        }
      ]
    },
    {
      "cell_type": "code",
      "source": [
        "# Bar plot showing counts of 'RestingECG' by 'Age' and 'Sex'\n",
        "plt.figure(figsize=(12, 8))\n",
        "sns.countplot(x='Age', hue='RestingECG', data=merged_data, palette='Set2', dodge=True)\n",
        "sns.countplot(x='Sex', hue='RestingECG', data=merged_data, palette='pastel', dodge=False, alpha=0.5)\n",
        "plt.title('Distribution of Resting ECG Types by Age and Sex')\n",
        "plt.xlabel('Age / Sex')\n",
        "plt.ylabel('Count')\n",
        "plt.legend(title='Resting ECG Type', bbox_to_anchor=(1.05, 1), loc='upper left')\n",
        "plt.show()\n"
      ],
      "metadata": {
        "id": "xzkLM5NnNlYL",
        "colab": {
          "base_uri": "https://localhost:8080/",
          "height": 695
        },
        "outputId": "c1bf250f-f423-426b-a061-53caf058db57"
      },
      "execution_count": 19,
      "outputs": [
        {
          "output_type": "display_data",
          "data": {
            "text/plain": [
              "<Figure size 1200x800 with 1 Axes>"
            ],
            "image/png": "[encoded data removed]"
          },
          "metadata": {}
        }
      ]
    },
    {
      "cell_type": "markdown",
      "source": [
        "**2.3 Analysis of Cholesterol Levels Across Age Groups using ANOVA**\n",
        "\n",
        "Analysis of Variance (ANOVA) test was conducted to explore potential disparities in mean cholesterol levels across different age groups within the merged dataset. It segmented the data into predefined age brackets—Young Adults, Middle-aged Adults, and Older Adults—to assess if these groups exhibited statistically significant differences in their average cholesterol levels. The ANOVA test computed various statistical parameters, including sum of squares (sum_sq), degrees of freedom (df), F-value (F), and p-value (PR(>F)). A low p-value (< 0.05) would have indicated substantial variations in mean cholesterol levels among the age groups, providing valuable insights into cholesterol discrepancies across distinct age ranges.\n"
      ],
      "metadata": {
        "id": "i85dNZTtWWhA"
      }
    },
    {
      "cell_type": "code",
      "source": [
        "# Categorize ages into groups\n",
        "merged_data['AgeGroup'] = pd.cut(merged_data['Age'], bins=[18, 35, 50, 70], labels=['Young Adults', 'Middle-aged Adults', 'Older Adults'])"
      ],
      "metadata": {
        "id": "9is9R_pQT6C9"
      },
      "execution_count": 20,
      "outputs": []
    },
    {
      "cell_type": "code",
      "source": [
        "# Perform ANOVA to compare cholesterol levels among age groups\n",
        "import statsmodels.api as sm\n",
        "from statsmodels.formula.api import ols\n",
        "\n",
        "model = ols('Cholesterol ~ AgeGroup', data=merged_data).fit()\n",
        "anova_table = sm.stats.anova_lm(model, typ=2)\n",
        "print(anova_table)"
      ],
      "metadata": {
        "id": "E0cZUf6yWwb8",
        "colab": {
          "base_uri": "https://localhost:8080/"
        },
        "outputId": "457a8391-1699-492d-f968-6842371598c9"
      },
      "execution_count": 21,
      "outputs": [
        {
          "output_type": "stream",
          "name": "stdout",
          "text": [
            "                 sum_sq    df         F    PR(>F)\n",
            "AgeGroup   26606.485714   2.0  1.546744  0.227984\n",
            "Residual  283826.514286  33.0       NaN       NaN\n"
          ]
        }
      ]
    },
    {
      "cell_type": "markdown",
      "source": [
        "# **3 Comparative Analysis of Cholesterol with Heart Health Metrics.**\n",
        "**3.1 Visualizing Cholesterol Associations with Heart Health Metrics**\n",
        "\n",
        "We then delved into the intricate relationships between cholesterol levels and crucial heart health metrics such as blood pressure (systolic and diastolic), Body Mass Index (BMI), and heart rate. Through a series of scatter plots, we aim to visualize potential connections or patterns that might exist between cholesterol and these fundamental health indicators. Additionally, to quantify the degree of association, a correlation matrix is constructed, providing a comprehensive overview of the interdependencies among these vital factors influencing heart health."
      ],
      "metadata": {
        "id": "ejomhf-zbNgU"
      }
    },
    {
      "cell_type": "code",
      "source": [
        "# Scatter plots for visualizing relationships\n",
        "plt.figure(figsize=(12, 8))\n"
      ],
      "metadata": {
        "id": "M4B9o3KyXHC5",
        "colab": {
          "base_uri": "https://localhost:8080/",
          "height": 52
        },
        "outputId": "3e645ae8-15c3-4ce0-ba07-00db571a3d3b"
      },
      "execution_count": 22,
      "outputs": [
        {
          "output_type": "execute_result",
          "data": {
            "text/plain": [
              "<Figure size 1200x800 with 0 Axes>"
            ]
          },
          "metadata": {},
          "execution_count": 22
        },
        {
          "output_type": "display_data",
          "data": {
            "text/plain": [
              "<Figure size 1200x800 with 0 Axes>"
            ]
          },
          "metadata": {}
        }
      ]
    },
    {
      "cell_type": "code",
      "source": [
        "\n",
        "# Cholesterol vs. Blood Pressure\n",
        "plt.subplot(2, 2, 1)\n",
        "sns.scatterplot(x='Cholesterol', y='sysBP', data=merged_data)\n",
        "plt.title('Cholesterol vs. Systolic Blood Pressure')\n",
        "\n",
        "plt.subplot(2, 2, 2)\n",
        "sns.scatterplot(x='Cholesterol', y='diaBP', data=merged_data)\n",
        "plt.title('Cholesterol vs. Diastolic Blood Pressure')\n"
      ],
      "metadata": {
        "id": "mg0r_VBwXN0w",
        "colab": {
          "base_uri": "https://localhost:8080/",
          "height": 287
        },
        "outputId": "b22f00cb-29d9-4782-9315-12d9dd27aedb"
      },
      "execution_count": 23,
      "outputs": [
        {
          "output_type": "execute_result",
          "data": {
            "text/plain": [
              "Text(0.5, 1.0, 'Cholesterol vs. Diastolic Blood Pressure')"
            ]
          },
          "metadata": {},
          "execution_count": 23
        },
        {
          "output_type": "display_data",
          "data": {
            "text/plain": [
              "<Figure size 640x480 with 2 Axes>"
            ],
            "image/png": "[encoded data removed]"
          },
          "metadata": {}
        }
      ]
    },
    {
      "cell_type": "code",
      "source": [
        "# Cholesterol vs. BMI and Heart Rate\n",
        "plt.subplot(2, 2, 3)\n",
        "sns.scatterplot(x='Cholesterol', y='BMI', data=merged_data)\n",
        "plt.title('Cholesterol vs. BMI')\n",
        "\n",
        "plt.subplot(2, 2, 4)\n",
        "sns.scatterplot(x='Cholesterol', y='heartRate', data=merged_data)\n",
        "plt.title('Cholesterol vs. Heart Rate')\n",
        "\n",
        "plt.tight_layout()\n",
        "plt.show()"
      ],
      "metadata": {
        "id": "jUKMxfo9XS2d",
        "colab": {
          "base_uri": "https://localhost:8080/",
          "height": 287
        },
        "outputId": "0180c90d-84eb-41d0-d050-da3afab9a68e"
      },
      "execution_count": 24,
      "outputs": [
        {
          "output_type": "display_data",
          "data": {
            "text/plain": [
              "<Figure size 640x480 with 2 Axes>"
            ],
            "image/png": "[encoded data removed]"
          },
          "metadata": {}
        }
      ]
    },
    {
      "cell_type": "code",
      "source": [
        "# Correlation matrix\n",
        "correlation_matrix = merged_data[['Cholesterol', 'sysBP', 'diaBP', 'BMI', 'heartRate']].corr()\n",
        "\n",
        "plt.figure(figsize=(8, 6))\n",
        "sns.heatmap(correlation_matrix, annot=True, cmap='coolwarm', fmt='.2f')\n",
        "plt.title('Correlation Matrix of Heart Health Factors')\n",
        "plt.show()"
      ],
      "metadata": {
        "id": "IbCIXSCJXUns",
        "colab": {
          "base_uri": "https://localhost:8080/",
          "height": 545
        },
        "outputId": "d8596e67-0023-4ac9-ece2-13f5db6e9882"
      },
      "execution_count": 25,
      "outputs": [
        {
          "output_type": "display_data",
          "data": {
            "text/plain": [
              "<Figure size 800x600 with 2 Axes>"
            ],
            "image/png": "[encoded data removed]"
          },
          "metadata": {}
        }
      ]
    },
    {
      "cell_type": "markdown",
      "source": [
        "**3.2 Analyzing Cholesterol Variation with Age using Linear Regression**\n",
        "Employed linear regression through the statsmodels library to explore how age influences cholesterol levels within the dataset. By defining age as the independent variable and cholesterol as the dependent variable, the linear regression model assesses the impact of age on cholesterol variation. The addition of a constant to the independent variable accounts for the intercept term in the regression analysis. The resultant model provides insights into the strength, direction, and significance of the relationship between age and cholesterol levels, facilitating a deeper understanding of this association."
      ],
      "metadata": {
        "id": "l8vUFvQAgRRp"
      }
    },
    {
      "cell_type": "code",
      "source": [
        "import statsmodels.api as sm\n",
        "\n",
        "# Define independent variable (Age) and dependent variable (Cholesterol)\n",
        "X = merged_data['Age']\n",
        "y = merged_data['Cholesterol']"
      ],
      "metadata": {
        "id": "xC121ojrcASq"
      },
      "execution_count": 26,
      "outputs": []
    },
    {
      "cell_type": "code",
      "source": [
        "# Add a constant to the independent variable for the intercept term\n",
        "X = sm.add_constant(X)\n"
      ],
      "metadata": {
        "id": "6xmR1O3TcQIT"
      },
      "execution_count": 27,
      "outputs": []
    },
    {
      "cell_type": "code",
      "source": [
        "# Fit the linear regression model\n",
        "model = sm.OLS(y, X).fit()"
      ],
      "metadata": {
        "id": "skpXr308cRn_"
      },
      "execution_count": 28,
      "outputs": []
    },
    {
      "cell_type": "code",
      "source": [
        "# Print the regression summary\n",
        "print(model.summary())"
      ],
      "metadata": {
        "id": "qatwVbTocTgv",
        "colab": {
          "base_uri": "https://localhost:8080/"
        },
        "outputId": "4c9e8558-2ff1-47d2-ec5a-942feb1647f9"
      },
      "execution_count": 29,
      "outputs": [
        {
          "output_type": "stream",
          "name": "stdout",
          "text": [
            "                            OLS Regression Results                            \n",
            "==============================================================================\n",
            "Dep. Variable:            Cholesterol   R-squared:                       0.277\n",
            "Model:                            OLS   Adj. R-squared:                  0.256\n",
            "Method:                 Least Squares   F-statistic:                     13.05\n",
            "Date:                Sun, 17 Dec 2023   Prob (F-statistic):           0.000969\n",
            "Time:                        00:15:48   Log-Likelihood:                -208.35\n",
            "No. Observations:                  36   AIC:                             420.7\n",
            "Df Residuals:                      34   BIC:                             423.9\n",
            "Df Model:                           1                                         \n",
            "Covariance Type:            nonrobust                                         \n",
            "==============================================================================\n",
            "                 coef    std err          t      P>|t|      [0.025      0.975]\n",
            "------------------------------------------------------------------------------\n",
            "const        444.5235     69.080      6.435      0.000     304.137     584.910\n",
            "Age           -4.6657      1.292     -3.612      0.001      -7.291      -2.041\n",
            "==============================================================================\n",
            "Omnibus:                        0.383   Durbin-Watson:                   1.444\n",
            "Prob(Omnibus):                  0.826   Jarque-Bera (JB):                0.539\n",
            "Skew:                           0.065   Prob(JB):                        0.764\n",
            "Kurtosis:                       2.415   Cond. No.                         273.\n",
            "==============================================================================\n",
            "\n",
            "Notes:\n",
            "[1] Standard Errors assume that the covariance matrix of the errors is correctly specified.\n"
          ]
        }
      ]
    },
    {
      "cell_type": "markdown",
      "source": [
        "The final regression analysis reveals a statistically significant but relatively weak relationship between age and cholesterol levels. While age shows a significant impact on cholesterol, it explains only a small portion of the variation in cholesterol levels. This suggests that factors beyond age play a more substantial role in determining cholesterol levels. Further analysis or inclusion of additional variables might be necessary to create a more comprehensive model for predicting cholesterol levels accurately.\n",
        "\n",
        "We then explored the impact of different variables on cholesterol levels using regression analysis. We considered factors like age, sex, blood pressure (sysBP and diaBP), BMI, heart rate, and glucose levels to predict cholesterol. Conducted a multiple linear regression analysise which helped determine which of these variables have a significant impact on cholesterol levels and to what extent."
      ],
      "metadata": {
        "id": "ARZxtBv_dRTd"
      }
    },
    {
      "cell_type": "markdown",
      "source": [
        "**3.3 Exploring Cholesterol Levels and Age Relationship through Regression Analysis**\n",
        "\n",
        "I utilized Ordinary Least Squares (OLS) Regression to investigate the potential relationship between age and cholesterol levels in the dataset. The OLS regression model provides insights into how changes in age may influence variations in cholesterol levels. The resulting regression summary showcases key statistical indicators such as R-squared, coefficients, and p-values, aiding in determining the significance and direction of the relationship between age and cholesterol levels."
      ],
      "metadata": {
        "id": "DISIHoWyftTY"
      }
    },
    {
      "cell_type": "code",
      "source": [
        "# Fill missing values in 'Cholesterol' column with mean\n",
        "merged_data['Cholesterol'].fillna(merged_data['Cholesterol'].mean(), inplace=True)"
      ],
      "metadata": {
        "id": "ONSAnD3lduRa"
      },
      "execution_count": 30,
      "outputs": []
    },
    {
      "cell_type": "code",
      "source": [
        "import numpy as np\n",
        "# Replace infinite values in 'Cholesterol' column with NaN\n",
        "merged_data['Cholesterol'] = merged_data['Cholesterol'].replace([np.inf, -np.inf], np.nan)"
      ],
      "metadata": {
        "id": "mxgbl63Uf8P5"
      },
      "execution_count": 31,
      "outputs": []
    },
    {
      "cell_type": "code",
      "source": [
        "# Drop rows with NaN values in 'Cholesterol' column\n",
        "merged_data.dropna(subset=['Cholesterol'], inplace=True)"
      ],
      "metadata": {
        "id": "f7XYF20Zf9bY"
      },
      "execution_count": 32,
      "outputs": []
    },
    {
      "cell_type": "code",
      "source": [
        "# Defining dependent and independent variables\n",
        "y = merged_data['Cholesterol']  # Cholesterol as dependent variable\n",
        "X = merged_data[['Age']]  # Age as independent variable"
      ],
      "metadata": {
        "id": "BDHa53erf_FH"
      },
      "execution_count": 33,
      "outputs": []
    },
    {
      "cell_type": "code",
      "source": [
        "# Add constant to the independent variable matrix\n",
        "X = sm.add_constant(X)\n"
      ],
      "metadata": {
        "id": "fgldT-EygBFQ"
      },
      "execution_count": 34,
      "outputs": []
    },
    {
      "cell_type": "code",
      "source": [
        "# Fit the regression model\n",
        "model = sm.OLS(y, X).fit()"
      ],
      "metadata": {
        "id": "HPoJYvBqgCQj"
      },
      "execution_count": 35,
      "outputs": []
    },
    {
      "cell_type": "code",
      "source": [
        "# Print the summary of the regression model\n",
        "print(model.summary())"
      ],
      "metadata": {
        "id": "Y0PuU1zugEQI",
        "colab": {
          "base_uri": "https://localhost:8080/"
        },
        "outputId": "25fef87e-588f-430c-af8e-256a6c19e5b6"
      },
      "execution_count": 36,
      "outputs": [
        {
          "output_type": "stream",
          "name": "stdout",
          "text": [
            "                            OLS Regression Results                            \n",
            "==============================================================================\n",
            "Dep. Variable:            Cholesterol   R-squared:                       0.277\n",
            "Model:                            OLS   Adj. R-squared:                  0.256\n",
            "Method:                 Least Squares   F-statistic:                     13.05\n",
            "Date:                Sun, 17 Dec 2023   Prob (F-statistic):           0.000969\n",
            "Time:                        00:16:12   Log-Likelihood:                -208.35\n",
            "No. Observations:                  36   AIC:                             420.7\n",
            "Df Residuals:                      34   BIC:                             423.9\n",
            "Df Model:                           1                                         \n",
            "Covariance Type:            nonrobust                                         \n",
            "==============================================================================\n",
            "                 coef    std err          t      P>|t|      [0.025      0.975]\n",
            "------------------------------------------------------------------------------\n",
            "const        444.5235     69.080      6.435      0.000     304.137     584.910\n",
            "Age           -4.6657      1.292     -3.612      0.001      -7.291      -2.041\n",
            "==============================================================================\n",
            "Omnibus:                        0.383   Durbin-Watson:                   1.444\n",
            "Prob(Omnibus):                  0.826   Jarque-Bera (JB):                0.539\n",
            "Skew:                           0.065   Prob(JB):                        0.764\n",
            "Kurtosis:                       2.415   Cond. No.                         273.\n",
            "==============================================================================\n",
            "\n",
            "Notes:\n",
            "[1] Standard Errors assume that the covariance matrix of the errors is correctly specified.\n"
          ]
        }
      ]
    },
    {
      "cell_type": "markdown",
      "source": [
        "**# Conclusion**\n",
        "\n",
        "It can be concluded that we :\n",
        "\n",
        "•Conducted exploratory analysis on heart disease risk factors, merging datasets for comprehensive insights.\n",
        "\n",
        "•Visualized distributions and relationships among key factors, identified potential correlations between cholesterol and heart health metrics.\n",
        "\n",
        "•Employed ANOVA to assess cholesterol differences across age groups.\n",
        "Explored age's impact on cholesterol levels using regression, revealing a statistically significant but weak relationship.\n",
        "\n",
        "•Discovered the need for additional variables in accurately predicting cholesterol and emphasized the complexity of heart health factors, prompting a call for a more comprehensive predictive model.\n"
      ],
      "metadata": {
        "id": "VEfFzOs1g2aq"
      }
    }
  ]
}