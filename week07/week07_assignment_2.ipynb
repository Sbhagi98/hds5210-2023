{
  "cells": [
    {
      "cell_type": "markdown",
      "metadata": {
        "id": "PRv-4C2cxIrQ"
      },
      "source": [
        "# Week 7 Assignment\n",
        "\n",
        "We've been working with different types of data structures in Python (dictionary, list, etc), how those are represented in JSON documents, and how to write code to access specific data elements. In this week's assignment, you will need to create your own JSON document to store information about yourself and the grades you've received from week 1 to week 4 and the week 6 quiz.  That is, everything you should have received a grade for.  Then you'll need to show me you know how to navigate the JSON in that file.\n",
        "\n",
        "Different from what we've done in the past, you do not have to write any functions or include any docstrings.  Just create some JSON and write some code.\n",
        "\n",
        "---"
      ]
    },
    {
      "cell_type": "markdown",
      "metadata": {
        "id": "cXKqvIOdxIrT"
      },
      "source": [
        "## 7.1 Create a JSON string\n",
        "\n",
        "Create a JSON string that contains your name, email, year you were born, all of the grades you've received back so far, and a comment about what you thought was most challenging on each of those assignments.  This can be any structure you choose, but make sure it uses a dictionary and a list, and has at least two levels of hierarchy.  That is, it can't just be one big long list."
      ]
    },
    {
      "cell_type": "markdown",
      "metadata": {
        "id": "WNRVzZm2xIrU"
      },
      "source": [
        "First, explain how your data structure is going to look..."
      ]
    },
    {
      "cell_type": "markdown",
      "metadata": {
        "id": "stYXe7faxIrV"
      },
      "source": [
        "* Put your explanation here in text...\n",
        "* I am going to create a Json string which includes my name , my mail, and about my grades upto assignment 4.\n",
        "* I have included the Json string in a variable named hds5210.\n",
        "* I have used loop to go through each assignment section."
      ]
    },
    {
      "cell_type": "markdown",
      "metadata": {
        "id": "UhWFxzcKxIrV"
      },
      "source": [
        "Then put the actual JSON you've created inside the multiline string below..."
      ]
    },
    {
      "cell_type": "code",
      "execution_count": 2,
      "metadata": {
        "id": "kXmdK2q9xIrW"
      },
      "outputs": [],
      "source": [
        "hds5210 = '''\n",
        "{\n",
        "  \"about_myself\": {\n",
        "    \"name\": \"Bhargavi\",\n",
        "    \"email\": \"sbhargavi@slu.edu\",\n",
        "    \"year_of_birth\": 1998\n",
        "  },\n",
        "  \"grades\": {\n",
        "    \"Assignment 1\": {\n",
        "      \"grade\": \"10/10\",\n",
        "      \"comment\": \"Understanding the assignment requirements was challenging, at some point I got confused but finally learned the process.\"\n",
        "    },\n",
        "    \"Assignment 2\": {\n",
        "      \"grade\": \"9/10\",\n",
        "      \"comment\": \"Writing code for the first time was the most challenging part.\"\n",
        "    },\n",
        "    \"Assignment 3\": {\n",
        "      \"grade\": \"10/10\",\n",
        "      \"comment\": \" This assignment took more time than other assignments.\"\n",
        "    },\n",
        "    \"Assignment 4\": {\n",
        "      \"grade\": \"10/10\",\n",
        "      \"comment\": \"Meeting the deadline was tough for me as I was busy with other work.\"\n",
        "    },\n",
        "    \"Assignment 6 Quiz\": {\n",
        "      \"grade\": \"15/20\",\n",
        "      \"comment\": \"The most challenging part during this Quiz is we have to write code in 15 mins that is some less time for the begginers like myself.\"\n",
        "    }\n",
        "  }\n",
        "}\n",
        "'''"
      ]
    },
    {
      "cell_type": "markdown",
      "metadata": {
        "id": "p53Hl16IxIrX"
      },
      "source": [
        "## 7.2 Do something with your JSON\n",
        "\n",
        "Now use Python code to do something with the Json above.  Turn it into English text, but make sure that you use at least one loop to access some dict or list content of your JSON.  Below, I've provided some basic code to read in the string above as JSON and return a Python object.  Your job is to work with that data structure and print out the important information like your name, email, and how you did on each assignment."
      ]
    },
    {
      "cell_type": "code",
      "execution_count": 4,
      "metadata": {
        "colab": {
          "base_uri": "https://localhost:8080/"
        },
        "id": "Z0oYxqrcxIrY",
        "outputId": "777ee7f2-3d8d-494d-e540-b65bcc7b6575"
      },
      "outputs": [
        {
          "output_type": "stream",
          "name": "stdout",
          "text": [
            "Hello, my name is Bhargavi.\n",
            "My email address is sbhargavi@slu.edu.\n",
            "I was born in 1998.\n",
            "\n",
            "Here are my grades:\n",
            "Assignment 1 - 10/10 - Understanding the assignment requirements was challenging, at some point I got confused but finally learned the process.\n",
            "Assignment 2 - 9/10 - Writing code for the first time was the most challenging part.\n",
            "Assignment 3 - 10/10 -  This assignment took more time than other assignments.\n",
            "Assignment 4 - 10/10 - Meeting the deadline was tough for me as I was busy with other work.\n",
            "Assignment 6 Quiz - 15/20 - The most challenging part during this Quiz is we have to write code in 15 mins that is some less time for the begginers like myself.\n"
          ]
        }
      ],
      "source": [
        "import json\n",
        "\n",
        "hds5210 = json.loads(hds5210)\n",
        "\n",
        "print(f\"Hello, my name is {hds5210['about_myself']['name']}.\")\n",
        "print(f\"My email address is {hds5210['about_myself']['email']}.\")\n",
        "print(f\"I was born in {hds5210['about_myself']['year_of_birth']}.\")\n",
        "\n",
        "print(\"\\nHere are my grades:\")\n",
        "for assignment, details in hds5210['grades'].items():\n",
        "    print(f\"{assignment} - {details['grade']} - {details['comment']}\")"
      ]
    },
    {
      "cell_type": "markdown",
      "metadata": {
        "id": "n3pj2s84xIrY"
      },
      "source": [
        "## 7.3 Reflect\n",
        "\n",
        "Write a paragraph on any reflections you have. Was this hard? Easy?  What parts were most challenging or easiest? What did you like or dislike about the assignment?  Share whatever important thoughts you have abou this assignment."
      ]
    },
    {
      "cell_type": "markdown",
      "metadata": {
        "id": "s_IqyIUKxIrZ"
      },
      "source": [
        "\n",
        "\n",
        "```\n",
        "# This is formatted as code\n",
        "```\n",
        "\n",
        "* The above assignment is not that hard If you listen to class and do some practice . Below given example has been useful in completing the assignment. I like this assignment more than other assignments . Writing about myself has taught me where I stand in this course."
      ]
    },
    {
      "cell_type": "markdown",
      "metadata": {
        "id": "8CocZKmbxIrZ"
      },
      "source": [
        "---\n",
        "\n",
        "# Example\n",
        "\n",
        "Below is an example of something similar, but this uses information my and my friend's kids instead of grades."
      ]
    },
    {
      "cell_type": "code",
      "execution_count": null,
      "metadata": {
        "id": "IcQnNdHWxIra",
        "outputId": "ba9260b3-65ac-43e2-a802-3f89852ad023"
      },
      "outputs": [
        {
          "name": "stdout",
          "output_type": "stream",
          "text": [
            "Hi, my name is Paul. I've got 3 kids. Their names are Ellie, Ada, Teddy.\n",
            "My friend, Anny has 1 kids. That's fewer than me. Their names are 1\n"
          ]
        }
      ],
      "source": [
        "hds5210 = \"\"\"\n",
        "{\n",
        "    \"me\": {\n",
        "        \"name\": \"Paul\",\n",
        "        \"kids\": [\"Ellie\", \"Ada\", \"Teddy\"]\n",
        "    },\n",
        "    \"friend\": {\n",
        "        \"name\": \"Anny\",\n",
        "        \"kids\": [\"Abby\"]\n",
        "    }\n",
        "}\n",
        "\"\"\"\n",
        "\n",
        "import json\n",
        "\n",
        "info = json.loads(hds5210)\n",
        "\n",
        "me = info[\"me\"][\"name\"]\n",
        "my_kids_count = len(info[\"me\"][\"kids\"])\n",
        "kids_list = \", \".join(info[\"me\"][\"kids\"])\n",
        "friend = info[\"friend\"][\"name\"]\n",
        "friends_kid_count = len(info[\"friend\"][\"kids\"])\n",
        "friend_kids = \", \".join(info[\"friend\"][\"kids\"])\n",
        "compare = \"more\" if friends_kid_count > my_kids_count else \"fewer\"\n",
        "\n",
        "print(f\"Hi, my name is {me}. I've got {my_kids_count} kids. Their names are {kids_list}.\")\n",
        "print(f\"My friend, {friend} has {friends_kid_count} kids. That's {compare} than me. Their names are {friends_kid_count}\")"
      ]
    }
  ],
  "metadata": {
    "kernelspec": {
      "display_name": "Python 3",
      "language": "python",
      "name": "python3"
    },
    "language_info": {
      "codemirror_mode": {
        "name": "ipython",
        "version": 3
      },
      "file_extension": ".py",
      "mimetype": "text/x-python",
      "name": "python",
      "nbconvert_exporter": "python",
      "pygments_lexer": "ipython3",
      "version": "3.9.16"
    },
    "colab": {
      "provenance": []
    }
  },
  "nbformat": 4,
  "nbformat_minor": 0
}