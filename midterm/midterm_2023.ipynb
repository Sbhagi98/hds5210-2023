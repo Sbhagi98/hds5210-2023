{
  "cells": [
    {
      "cell_type": "markdown",
      "metadata": {
        "id": "RpYgQzQkd0MD"
      },
      "source": [
        "# HDS5210-2022 Midterm\n",
        "\n",
        "In the midterm, you're going to use all the programming and data management skills you've developed so far to build a risk calculator that pretends to be integrated with a clinical registry.  You'll compute the PRIEST COVID-19 Clinical Severity Score for a series of patients and, based on their risk of an adverse outcome, query a REST web service to find a hospital to transfer them to. The end result of your work will be a list of instructions on where each patient should be discharged given their risk and various characteristics of the patient.\n",
        "\n",
        "Each step in the midterm will build up to form your complete solution.\n",
        "\n",
        "**Make sure you write good docstrings and doctests along the way!!**\n",
        "\n",
        "**The midterm is due at 11:59 PM CST on Monday, October 23rd.**\n",
        "\n",
        "---"
      ]
    },
    {
      "cell_type": "markdown",
      "metadata": {
        "id": "cYiiuIPWd0MF"
      },
      "source": [
        "## Step 1: Calculate PRIEST Clinical Severity Score\n",
        "\n",
        "This scoring algorithm can be found [here on the MDCalc website](https://www.mdcalc.com/priest-covid-19-clinical-severity-score#evidence).  \n",
        "\n",
        "1. You will need to write a function called **priest()** with the following input parameters.  \n",
        " * Sex (Gender assigned at birth)\n",
        " * Age in years\n",
        " * Respiratory rate in breaths per minute\n",
        " * Oxygen saturation as a percent between 0 and 1\n",
        " * Heart rate in beats per minute\n",
        " * Systolic BP in mmHg\n",
        " * Temperature in degrees C\n",
        " * Alertness as a string description\n",
        " * Inspired Oxygen as as string description\n",
        " * Performance Status as a string description\n",
        "2. The function will need to follow the algorithm provided on the MDCalc website to compute a risk percentage that should be returned as a numeric value between 0 and 1.\n",
        "3. Be sure to use docstring documentation and at least three built-in docstring test cases.\n",
        "4. Assume that the input values that are strings could be any combination of upper or lower case. For example: 'male', 'Male', 'MALE', 'MalE' should all be interpretted by your code as male.\n",
        "5. If any of the inputs are invalid (for example a sex value that is not recognizable as male or female) your code should return None.\n",
        "\n",
        "NOTES:\n",
        "1. In the final step there is a table that translates from **PRIEST Score** to **30-day probability of an outcome** but the last two probabilities are shown as ranges (59-88% and >99%).  Our code needs to output a single number, however. For our code, use the following rule:\n",
        " * If PRIEST score is between 17 and 25, the probability you return should be 0.59\n",
        " * If PRIEST score is greater than or equal to 26, the probability you return should be 0.99\n"
      ]
    },
    {
      "cell_type": "code",
      "execution_count": null,
      "metadata": {
        "id": "dAW_ipL9d0MG"
      },
      "outputs": [],
      "source": [
        "def priest(sex, age, respiratory_rate, o2_sat, heart_rate, bp_sys, temp_C, alertness, o2_inspired, performance_status):\n",
        "    '''This calculates COVID-19 risk score for a patient and returns the probability of adverse effects.It uses the algorithm from MDCalc website.\n",
        "       For a person who takes their vitals parameters into consideration, the first part of this function will calculate COVID-19 severity and\n",
        "       the risk score can help predict the patient's probability of adverse effects in the next 30 days.\n",
        "\n",
        "\n",
        "    >>> priest('MALE',40,20,0.99,135,115,39.2,'ALERT','AIR','unrestricted normal activity')\n",
        "    0.15\n",
        "    >>> priest('FEMALE',18,22,0.96,105,101,38.1,'ALERT','AIR','unrestricted normal activity')\n",
        "    0.09\n",
        "    >>> priest('MalE', 65, 24, 0.87, 90, 99, 36.5, 'ConFusEd oR nOt AleRt', 'air', 'limited strenuous activity, can do light activity')\n",
        "    0.47\n",
        "    >>> priest('Female',18,10,0.96,90,230,38.1,'ALERT','AIR','limited self-care')\n",
        "    0.22\n",
        "    '''\n",
        "\n",
        "\n",
        "    sex_score = 0\n",
        "    age_score = 0\n",
        "    respiratory_rate_score = 0\n",
        "    o2_sat_score = 0\n",
        "    heart_rate_score = 0\n",
        "    bp_sys_score = 0\n",
        "    temp_C_score = 0\n",
        "    alertness_score = 0\n",
        "    o2_inspired_score = 0\n",
        "    performance_status_score = 0\n",
        "\n",
        "    if sex.lower() == 'male':\n",
        "      sex_score = 1\n",
        "    elif sex.lower() == 'female':\n",
        "      sex_score = 0\n",
        "\n",
        "    if 16 <= age <= 49:\n",
        "        age_score = 0\n",
        "    elif 50 <= age <= 65:\n",
        "        age_score = 2\n",
        "    elif 66 <= age <= 80:\n",
        "        age_score = 3\n",
        "    elif age > 80:\n",
        "        age_score = 4\n",
        "\n",
        "    if respiratory_rate < 9:\n",
        "        respiratory_rate_score = 3\n",
        "    elif 9 <= respiratory_rate <= 11:\n",
        "        respiratory_rate_score = 1\n",
        "    elif 12 <= respiratory_rate <= 20:\n",
        "        respiratory_rate_score = 0\n",
        "    elif 21 <= respiratory_rate <= 24:\n",
        "        respiratory_rate_score = 2\n",
        "    elif respiratory_rate > 24:\n",
        "        respiratory_rate_score = 3\n",
        "\n",
        "    if o2_sat > 0.95:\n",
        "        o2_sat_score = 0\n",
        "    elif 0.94 <= o2_sat <= 0.95:\n",
        "        o2_sat_score = 1\n",
        "    elif 0.92 <= o2_sat <= 0.93:\n",
        "        o2_sat_score = 2\n",
        "    else:\n",
        "        o2_sat_score = 3\n",
        "\n",
        "    if heart_rate < 41:\n",
        "        heart_rate_score = 3\n",
        "    elif 41 <= heart_rate <= 50:\n",
        "        heart_rate_score = 1\n",
        "    elif 51 <= heart_rate <= 90:\n",
        "        heart_rate_score = 0\n",
        "    elif 91 <= heart_rate <= 110:\n",
        "        heart_rate_score = 1\n",
        "    elif 111 <= heart_rate <= 130:\n",
        "        heart_rate_score = 2\n",
        "    else:\n",
        "        heart_rate_score = 3\n",
        "\n",
        "    if bp_sys < 91:\n",
        "        bp_sys_score = 3\n",
        "    elif 91 <= bp_sys <= 100:\n",
        "        bp_sys_score = 2\n",
        "    elif 101 <= bp_sys <= 110:\n",
        "        bp_sys_score = 1\n",
        "    elif 111 <= bp_sys <= 219:\n",
        "        bp_sys_score = 0\n",
        "    else:\n",
        "        bp_sys_score = 3\n",
        "\n",
        "    if temp_C < 35.1:\n",
        "        temp_C_score = 3\n",
        "    elif 35.1 <= temp_C <= 36.0:\n",
        "        temp_C_score = 1\n",
        "    elif 36.1 <= temp_C <= 38.0:\n",
        "        temp_C_score = 0\n",
        "    elif 38.1 <= temp_C <= 39.0:\n",
        "        temp_C_score = 1\n",
        "    else:\n",
        "        temp_C_score = 2\n",
        "\n",
        "    if alertness.lower() == 'confused or not alert':\n",
        "        alertness_score = 3\n",
        "\n",
        "    if o2_inspired.lower() == 'supplemental oxygen':\n",
        "        o2_inspired_score = 2\n",
        "\n",
        "    if performance_status.lower() == 'limited strenuous activity, can do light activity':\n",
        "        performance_status_score = 1\n",
        "    elif performance_status.lower() == 'limited activity, can self-care':\n",
        "        performance_status_score = 2\n",
        "    elif performance_status.lower() == 'limited self-care':\n",
        "        performance_status_score = 3\n",
        "    elif performance_status.lower() == 'bed/chair bound, no self-care':\n",
        "        performance_status_score = 4\n",
        "\n",
        "    risk_score = sex_score + age_score + respiratory_rate_score + o2_sat_score + heart_rate_score + bp_sys_score + temp_C_score + alertness_score + o2_inspired_score + performance_status_score\n",
        "\n",
        "    if risk_score >= 0 and risk_score <= 1:\n",
        "        risk = 0.01\n",
        "    elif risk_score >= 2 and risk_score <= 3:\n",
        "        risk = 0.02\n",
        "    elif risk_score == 4:\n",
        "        risk = 0.03\n",
        "    elif risk_score == 5:\n",
        "        risk = 0.09\n",
        "    elif risk_score == 6:\n",
        "        risk = 0.15\n",
        "    elif risk_score == 7:\n",
        "        risk = 0.18\n",
        "    elif risk_score == 8:\n",
        "        risk = 0.22\n",
        "    elif risk_score == 9:\n",
        "        risk = 0.26\n",
        "    elif risk_score == 10:\n",
        "        risk = 0.29\n",
        "    elif risk_score == 11:\n",
        "        risk = 0.34\n",
        "    elif risk_score == 12:\n",
        "        risk = 0.38\n",
        "    elif risk_score == 13:\n",
        "        risk = 0.46\n",
        "    elif risk_score == 14:\n",
        "        risk = 0.47\n",
        "    elif risk_score == 15:\n",
        "        risk = 0.49\n",
        "    elif risk_score == 16:\n",
        "        risk = 0.55\n",
        "    elif risk_score >= 17 and risk_score <= 25:\n",
        "        risk = 0.59\n",
        "    else:\n",
        "        risk = 0.99\n",
        "\n",
        "    return risk"
      ]
    },
    {
      "cell_type": "code",
      "execution_count": 9,
      "metadata": {
        "colab": {
          "base_uri": "https://localhost:8080/"
        },
        "id": "cDSjkSL7d0MH",
        "outputId": "3bb4e3a6-b8f6-47a4-e3dd-e488a69dde9f"
      },
      "outputs": [
        {
          "output_type": "stream",
          "name": "stdout",
          "text": [
            "Finding tests in NoName\n",
            "Trying:\n",
            "    priest('MALE',40,20,0.99,135,115,39.2,'ALERT','AIR','unrestricted normal activity')\n",
            "Expecting:\n",
            "    0.15\n",
            "ok\n",
            "Trying:\n",
            "    priest('FEMALE',18,22,0.96,105,101,38.1,'ALERT','AIR','unrestricted normal activity')\n",
            "Expecting:\n",
            "    0.09\n",
            "ok\n",
            "Trying:\n",
            "    priest('MalE', 65, 24, 0.87, 90, 99, 36.5, 'ConFusEd oR nOt AleRt', 'air', 'limited strenuous activity, can do light activity')\n",
            "Expecting:\n",
            "    0.47\n",
            "ok\n",
            "Trying:\n",
            "    priest('Female',18,10,0.96,90,230,38.1,'ALERT','AIR','limited self-care')\n",
            "Expecting:\n",
            "    0.22\n",
            "ok\n"
          ]
        }
      ],
      "source": [
        "import doctest\n",
        "doctest.run_docstring_examples(priest, globals(),verbose=True)"
      ]
    },
    {
      "cell_type": "markdown",
      "metadata": {
        "id": "eCcG6ibTd0MI"
      },
      "source": [
        "## Part 2: Find a hospital\n",
        "\n",
        "The next thing we have to do is figure out where to send this particular patient.  The guidelines on where to send a patient are based on their age (pediatric, adult, geriatric), sex, and risk percentage.  Luckily, you don't have to implement these rules. I already have. All you have to do is use a REST web service that I've created for you.\n",
        "\n",
        "You'll want to use Python to make a call to my REST web service similar to the example URL below. The first part of the URL will be the same for everyone and every request that you make. What you will need to modify for each of your requests is the information after the question mark.\n",
        "\n",
        "```\n",
        "https://oumdj6oci2.execute-api.us-east-1.amazonaws.com/prd/?age=40&sex=male&risk_pct=0.1\n",
        "```\n",
        "\n",
        "The example above asks my web service where a 40-year old male with a risk of 10% should go.  What the web service will return back is a JSON string containing the information you need.  That JSON will look like this:\n",
        "\n",
        "```json\n",
        "{\n",
        "  \"age\": \"40\",\n",
        "  \"sex\": \"male\",\n",
        "  \"risk\": \"0.1\",\n",
        "  \"hospital\": \"Southwest Hospital and Medical Center\"\n",
        "}\n",
        "```\n",
        "\n",
        "My function is not smart enough to understand `'MALE'` is the same as `'male'`.  You have to send it exactly `'male'` or `'female'`\n",
        "\n",
        "1. Your job is to write a function called **find_hospital()** that takes age, sex, and risk as parameters.\n",
        "2. Your function should call this REST web service using the `requests` module\n",
        "3. Then your function will need to interpret the JSON it gets and return just the name of the hospital\n",
        "4. If anything fails, return None\n",
        "5. Include a good docstring with at least three test cases.\n"
      ]
    },
    {
      "cell_type": "code",
      "execution_count": null,
      "metadata": {
        "id": "P4VHMrlWd0MI"
      },
      "outputs": [],
      "source": [
        "import requests\n",
        "import json\n",
        "def find_hospital(age, sex, risk):\n",
        "    ''' In this function, a patient's risk score, age and sex are calculated to determine which location where the person can be treated.\n",
        "        If they're using the REST web service in an emergency.\n",
        "\n",
        "    >>> find_hospital(52, 'female', 0.15)\n",
        "    'Select Specialty Hospital - Northeast Atlanta'\n",
        "    >>> find_hospital(66, 'male', 0.4)\n",
        "    'Wesley Woods Geriatric Hospital'\n",
        "    >>> find_hospital(30, 'female', 0.51)\n",
        "    'Emory Dunwoody Medical Center'\n",
        "    >>> find_hospital(25, 'male', 0.10)\n",
        "    'Southwest Hospital and Medical Center'\n",
        "    '''\n",
        "    url = f'https://oumdj6oci2.execute-api.us-east-1.amazonaws.com/prd/?age={age}&sex={sex}&risk_pct={risk}'\n",
        "    response = requests.get(url)\n",
        "    data = response.json()\n",
        "    hospital_name = data['hospital']\n",
        "    return (hospital_name)"
      ]
    },
    {
      "cell_type": "code",
      "execution_count": null,
      "metadata": {
        "colab": {
          "base_uri": "https://localhost:8080/"
        },
        "id": "0_Xj3O2jd0MI",
        "outputId": "d65dc7ea-4f06-4587-b42e-5d8b770b0c71"
      },
      "outputs": [
        {
          "output_type": "stream",
          "name": "stdout",
          "text": [
            "Finding tests in NoName\n",
            "Trying:\n",
            "    find_hospital(52, 'female', 0.15)\n",
            "Expecting:\n",
            "    'Select Specialty Hospital - Northeast Atlanta'\n",
            "ok\n",
            "Trying:\n",
            "    find_hospital(66, 'male', 0.4)\n",
            "Expecting:\n",
            "    'Wesley Woods Geriatric Hospital'\n",
            "ok\n",
            "Trying:\n",
            "    find_hospital(30, 'female', 0.51)\n",
            "Expecting:\n",
            "    'Emory Dunwoody Medical Center'\n",
            "ok\n",
            "Trying:\n",
            "    find_hospital(25, 'male', 0.10)\n",
            "Expecting:\n",
            "    'Southwest Hospital and Medical Center'\n",
            "ok\n"
          ]
        }
      ],
      "source": [
        "import doctest\n",
        "doctest.run_docstring_examples(find_hospital, globals(),verbose=True)"
      ]
    },
    {
      "cell_type": "markdown",
      "metadata": {
        "id": "3c3VSn6Xd0MI"
      },
      "source": [
        "## Part 3: Get the address for that hospital from a JSON file\n",
        "\n",
        "Great! Now we have code to tell us which hospital to send someone to... but we don't know where that hospital is. The next function we need to create is one that looks up the address of that hospital.  All of these hospitals are in Atlanta, Georgia.  We're going to use the list from this webpage to lookup the address for that hospital, based on its name.  https://www.officialusa.com/stateguides/health/hospitals/georgia.html\n",
        "\n",
        "Because we skipped the section about Beautiful Soup and working with HTML, I've converted this information into a JSON document for you.  It's available for you here.  Your code should retrieve this file using the `requests` module.\n",
        "\n",
        "`https://drive.google.com/uc?export=download&id=1fIFD-NkcdiMu941N4GjyMDWxiKsFJBw-`\n",
        "\n",
        "1. You need to create a function called **get_address()** that takes hospital name as a parameter and searches the data from this JSON file for the hospital you want to find.\n",
        "2. Your code will have to load the JSON and return the correct hospital based on name.\n",
        "3. If the hospital name isn't found, the function should return None.\n",
        "4. Be sure to use good docstring documentation and includes at least 3 test cases."
      ]
    },
    {
      "cell_type": "code",
      "execution_count": null,
      "metadata": {
        "id": "4LeOjwUjd0MJ"
      },
      "outputs": [],
      "source": [
        "def get_hospital_address(hospital_name):\n",
        "  ''' We should better find the address of the hospital when we found out which one to go to in an emergency.\n",
        "      Look up the hospital name in a JSON file containing hospital names and addresses and Return the address string for this hospital name.\n",
        "\n",
        "    >>> get_hospital_address('ST MARYS HEALTH CARE SYSTEM')\n",
        "    '1230 BAXTER STREET'\n",
        "    >>> get_hospital_address('EMORY DUNWOODY MEDICAL CENTER')\n",
        "    '4500 NORTH SHALLOWFORD ROAD'\n",
        "    >>> get_hospital_address('HILLSIDE HOSPITAL')\n",
        "    '690 COURTENAY DRIVE NE'\n",
        "    >>> get_hospital_address('PRIDE MEDICAL')\n",
        "    '3280 HOWELL MILL ROAD NW'\n",
        "    '''\n",
        "\n",
        "  with open('ga_hospitals.json') as f:\n",
        "    hospitals = json.load(f)\n",
        "    hospital_name = hospital_name.upper()\n",
        "    return hospitals[hospital_name]['ADDRESS']"
      ]
    },
    {
      "cell_type": "code",
      "source": [
        "import doctest\n",
        "doctest.run_docstring_examples(get_hospital_address, globals(),verbose=True)"
      ],
      "metadata": {
        "colab": {
          "base_uri": "https://localhost:8080/"
        },
        "id": "cLIHmiWpemUx",
        "outputId": "169b4b9d-b1fd-4598-cfa9-0aee068ae048"
      },
      "execution_count": null,
      "outputs": [
        {
          "output_type": "stream",
          "name": "stdout",
          "text": [
            "Finding tests in NoName\n",
            "Trying:\n",
            "    get_hospital_address('ST MARYS HEALTH CARE SYSTEM')\n",
            "Expecting:\n",
            "    '1230 BAXTER STREET'\n",
            "ok\n",
            "Trying:\n",
            "    get_hospital_address('EMORY DUNWOODY MEDICAL CENTER')\n",
            "Expecting:\n",
            "    '4500 NORTH SHALLOWFORD ROAD'\n",
            "ok\n",
            "Trying:\n",
            "    get_hospital_address('HILLSIDE HOSPITAL')\n",
            "Expecting:\n",
            "    '690 COURTENAY DRIVE NE'\n",
            "ok\n",
            "Trying:\n",
            "    get_hospital_address('PRIDE MEDICAL')\n",
            "Expecting:\n",
            "    '3280 HOWELL MILL ROAD NW'\n",
            "ok\n"
          ]
        }
      ]
    },
    {
      "cell_type": "markdown",
      "metadata": {
        "id": "U5B_hd-6d0MJ"
      },
      "source": [
        "## Part 4: Run the risk calculator on a population\n",
        "\n",
        "At the link below, there is a file called `people.psv`.  It is a pipe-delimited (`|`) file with columns that match the inputs for the PRIEST calculation above.  Your code should use the `requests` module to retrieve the file from this URL.\n",
        "\n",
        "`https://drive.google.com/uc?export=download&id=1fLxJN9YGUqmqExrilxSS8furwUER5HHh`\n",
        "\n",
        "\n",
        "In addition, the file has a patient identifier in the first column.\n",
        "\n",
        "1. Write a function called **process_people()** that takes the file location above as its only parameter. Your Python program should use your code above to process all of these rows, determine the hospital and address, and return a list whose items are a dictionary like this: `{ patient_number: [sex, age, breath, o2sat, heart, systolic, temp, alertness, inspired, status, hospital, address]}`.  Look at the file in Part 5 for what the output looks like.\n",
        "2. Be sure to use good docstrings, but you don't need any tests in your doc strings.  I've provided those for you withe file in Part 5.\n",
        "\n",
        "\n",
        "**NOTE** that when running your code for all the 100 records in the `people.psv` file, it may take a few minutes to complete.  You're making multiple calls to the internet for each record, so that can take a little while.\n"
      ]
    },
    {
      "cell_type": "code",
      "execution_count": null,
      "metadata": {
        "id": "Px7--1end0MJ"
      },
      "outputs": [],
      "source": [
        "def process_people(file_name):\n",
        "   \"\"\" A CSV file is used to process patient's data. This calculates the risk score, finds a hospital for each patient and gets their address.\n",
        "   The results are stored according to the patient's number in a dictionary. \"\"\"\n",
        "   results = {}\n",
        "   with open(file_name) as csv_file:\n",
        "        lines = csv_file.readlines()\n",
        "\n",
        "\n",
        "        for line in lines[1:]:\n",
        "            try:\n",
        "\n",
        "                patient_details = line.strip().split(\"|\")\n",
        "\n",
        "                patient_number,sex, age, respiratory_rate, o2_sat, heart_rate, bp_sys, temp_C, alertness, o2_inspired, performance_status = patient_details\n",
        "\n",
        "\n",
        "\n",
        "                risk_score = priest(sex, int(age), int(respiratory_rate), float(o2_sat), int(heart_rate), int(bp_sys), float(temp_C), alertness, o2_inspired, performance_status)\n",
        "\n",
        "                hospital_name = find_hospital(int(age), sex, risk_score)\n",
        "\n",
        "                hospital_address = get_hospital_address(hospital_name)\n",
        "\n",
        "\n",
        "\n",
        "                results[patient_number] = [sex, int(age), float(respiratory_rate), float(o2_sat), float(heart_rate), float(bp_sys), float(temp_C), alertness, o2_inspired, performance_status\n",
        "                                           , risk_score, hospital_name, hospital_address]\n",
        "\n",
        "            except Exception as e:\n",
        "                print(\"Error processing patient:\", e)\n",
        "   return results"
      ]
    },
    {
      "cell_type": "markdown",
      "metadata": {
        "id": "XnK4Vvyad0MK"
      },
      "source": [
        "## Part 5: Checking your final results\n",
        "\n",
        "The final step is to check your results.  You should be able to compare your results to the output in `people_results.json` at the link below.  Write some code to check your results.  This does not need to be a function.\n",
        "\n",
        "`https://drive.google.com/uc?export=download&id=1gx1SSC20mO5XL6uYD0mdcM_cL91fcIW5`\n"
      ]
    },
    {
      "cell_type": "code",
      "execution_count": null,
      "metadata": {
        "colab": {
          "base_uri": "https://localhost:8080/"
        },
        "id": "3XplKa9md0MK",
        "outputId": "8bfbe072-d7f7-41b1-946d-e9c20c303811"
      },
      "outputs": [
        {
          "output_type": "stream",
          "name": "stdout",
          "text": [
            "Both are Same\n"
          ]
        }
      ],
      "source": [
        "import json\n",
        "json_file = \"people_results.json\"\n",
        "with open(json_file) as file:\n",
        "    json_data = json.loads(file.read())\n",
        "    peoples_results = process_people('people.psv')\n",
        "    if json_data == peoples_results:\n",
        "        print(\"Both are Same\")\n",
        "    else:\n",
        "      print(\"Both are different\")\n",
        "\n",
        "\n"
      ]
    },
    {
      "cell_type": "markdown",
      "metadata": {
        "id": "CIpvzp2ud0MK"
      },
      "source": [
        "---\n",
        "\n",
        "## Check your work above\n",
        "\n",
        "If you didn't get them all correct, take a few minutes to think through those that aren't correct.\n",
        "\n",
        "\n",
        "## Submitting Your Work\n",
        "\n",
        "Submit your work as usual into a folder named `midterm`"
      ]
    },
    {
      "cell_type": "markdown",
      "metadata": {
        "id": "V1NW8Fewd0MK"
      },
      "source": [
        "---"
      ]
    }
  ],
  "metadata": {
    "kernelspec": {
      "display_name": "Python 3",
      "language": "python",
      "name": "python3"
    },
    "language_info": {
      "codemirror_mode": {
        "name": "ipython",
        "version": 3
      },
      "file_extension": ".py",
      "mimetype": "text/x-python",
      "name": "python",
      "nbconvert_exporter": "python",
      "pygments_lexer": "ipython3",
      "version": "3.9.16"
    },
    "colab": {
      "provenance": []
    }
  },
  "nbformat": 4,
  "nbformat_minor": 0
}