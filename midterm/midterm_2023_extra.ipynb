{
  "cells": [
    {
      "cell_type": "markdown",
      "metadata": {
        "id": "RKdFwCxAFxR7"
      },
      "source": [
        "# Extra Credit\n",
        "\n",
        "For upto an additional 15 extra credit points on the midterm exam, you can write another function that applies additional criteria on top of what the midterm already did.  To earn the addition points, you need write a function called `summarize_results(patients)` to take the output of your  `process_people()` function to apply a new business rule and summarize the results.\n",
        "\n",
        "* Your function should take the dictionary created by `process_people()` as it's one input parameter: `patients`.\n",
        "* If the PRIEST probably is less than 10%, change the `hospital` and `address` to both have a value of `'Home'` indicating patients with a lower probability of an adverse outcome can just go home rather than be admitted to a hospital.\n",
        "* Summarize those results and count how many patients are now being sent to each location.  Your result should have the following format:\n",
        "```\n",
        "{\n",
        "    \"Home\": 123,\n",
        "    \"Hospital A\": 10,\n",
        "    \"Hospital B\": 20,\n",
        "    \"Hospital C\": 30\n",
        "}\n",
        "```\n",
        "\n",
        "As always, your function needs good docstrings; but does not require any doctests in this case."
      ]
    },
    {
      "cell_type": "code",
      "execution_count": 1,
      "metadata": {
        "id": "QgHiPdVZFxR8"
      },
      "outputs": [],
      "source": [
        "def summarize_results(patients):\n",
        "  '''This function summarizes the patient data.It counts and returns the number of patients recommended for each location.'''\n",
        "  summary = {}\n",
        "\n",
        "  for patient_id in patients:\n",
        "    risk_score = patients[patient_id][10]\n",
        "\n",
        "    if risk_score < 0.10:\n",
        "      recommendation = 'Home'\n",
        "    else:\n",
        "      recommendation = patients[patient_id][11]\n",
        "\n",
        "    if recommendation not in summary:\n",
        "      summary[recommendation] = 0\n",
        "    summary[recommendation] += 1\n",
        "\n",
        "  return summary"
      ]
    },
    {
      "cell_type": "code",
      "execution_count": 2,
      "metadata": {
        "colab": {
          "base_uri": "https://localhost:8080/"
        },
        "id": "drpfekQYFxR8",
        "outputId": "976c3fe3-45dd-40c8-f5c6-8df92e7e8432"
      },
      "outputs": [
        {
          "output_type": "stream",
          "name": "stdout",
          "text": [
            "{\n",
            "  \"Select Specialty Hospital - Northeast Atlanta\": 32,\n",
            "  \"Wesley Woods Geriatric Hospital\": 20,\n",
            "  \"Southwest Hospital and Medical Center\": 16,\n",
            "  \"Childrens Healthcare of Atlanta at Scottish Rite\": 1,\n",
            "  \"Home\": 24,\n",
            "  \"Hughes Spalding Childrens Hospital\": 1,\n",
            "  \"Emory Dunwoody Medical Center\": 5\n",
            "}\n"
          ]
        }
      ],
      "source": [
        "import json\n",
        "\n",
        "json_file = 'people_results.json'\n",
        "\n",
        "with open(json_file) as f:\n",
        "  data = json.load(f)\n",
        "\n",
        "summary = summarize_results(data)\n",
        "\n",
        "print(json.dumps(summary, indent=2))\n"
      ]
    }
  ],
  "metadata": {
    "kernelspec": {
      "display_name": ".venv",
      "language": "python",
      "name": "python3"
    },
    "language_info": {
      "codemirror_mode": {
        "name": "ipython",
        "version": 3
      },
      "file_extension": ".py",
      "mimetype": "text/x-python",
      "name": "python",
      "nbconvert_exporter": "python",
      "pygments_lexer": "ipython3",
      "version": "3.9.16"
    },
    "colab": {
      "provenance": []
    }
  },
  "nbformat": 4,
  "nbformat_minor": 0
}